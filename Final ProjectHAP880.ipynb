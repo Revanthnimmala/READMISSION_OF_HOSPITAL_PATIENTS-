{
 "cells": [
  {
   "cell_type": "code",
   "execution_count": 105,
   "metadata": {},
   "outputs": [],
   "source": [
    "import pandas as pd\n",
    "import numpy as np\n",
    "import matplotlib.pyplot as plt\n",
    "import seaborn as sns\n",
    "from sklearn.model_selection import train_test_split\n",
    "from sklearn.metrics import r2_score, mean_squared_error\n",
    "from sklearn.preprocessing import MinMaxScaler\n",
    "from sklearn.neighbors import KNeighborsRegressor\n",
    "from sklearn.linear_model import LinearRegression\n",
    "from sklearn.svm import SVR\n",
    "from sklearn.ensemble import RandomForestRegressor\n",
    "from sklearn.tree import DecisionTreeRegressor\n",
    "from scipy.stats import pearsonr\n",
    "from sklearn.ensemble import GradientBoostingRegressor\n",
    "from sklearn.linear_model import SGDRegressor\n",
    "import statsmodels.api as sm\n",
    "from sklearn.model_selection import GridSearchCV\n",
    "import seaborn as sns\n",
    "import sqlite3"
   ]
  },
  {
   "cell_type": "code",
   "execution_count": 106,
   "metadata": {},
   "outputs": [],
   "source": [
    "import warnings\n",
    "warnings.filterwarnings(\"ignore\")"
   ]
  },
  {
   "cell_type": "code",
   "execution_count": 107,
   "metadata": {},
   "outputs": [],
   "source": [
    "conn = sqlite3.connect('C:/Users/varal/Downloads/mimic.db/mimic.db')"
   ]
  },
  {
   "cell_type": "code",
   "execution_count": 108,
   "metadata": {},
   "outputs": [],
   "source": [
    "# Primary Admissions information\n",
    "df = pd.read_sql('select * from admissions',conn)\n",
    "\n",
    "# Patient specific info such as gender\n",
    "df_pat = pd.read_sql('select * from patients',conn)\n",
    "\n",
    "# Diagnosis for each admission to hospital\n",
    "df_diagcode = pd.read_sql('select * from diagnoses_icd',conn)\n",
    "# Intensive Care Unit (ICU) for each admission to hospital\n",
    "df_icu = pd.read_sql('select * from icustays',conn)"
   ]
  },
  {
   "cell_type": "code",
   "execution_count": 109,
   "metadata": {},
   "outputs": [],
   "source": [
    "# her all admissions for patients \n",
    "ad_patients = pd.read_sql('select *, (julianday(date(admittime))-julianday(date(dob)))/365.25 as age from admissions, patients where admissions.subject_id = patients.subject_id ',conn)"
   ]
  },
  {
   "cell_type": "code",
   "execution_count": 110,
   "metadata": {},
   "outputs": [
    {
     "data": {
      "text/plain": [
       "(58976, 19)"
      ]
     },
     "execution_count": 110,
     "metadata": {},
     "output_type": "execute_result"
    }
   ],
   "source": [
    "df.shape"
   ]
  },
  {
   "cell_type": "code",
   "execution_count": 111,
   "metadata": {},
   "outputs": [
    {
     "data": {
      "text/plain": [
       "46520"
      ]
     },
     "execution_count": 111,
     "metadata": {},
     "output_type": "execute_result"
    }
   ],
   "source": [
    "df['SUBJECT_ID'].nunique()\n",
    "# 46520 unique patients"
   ]
  },
  {
   "cell_type": "code",
   "execution_count": 112,
   "metadata": {},
   "outputs": [],
   "source": [
    "import time\n",
    "# calculate los in seconds\n",
    "df['ADMITTIME'] = pd.to_datetime(df['ADMITTIME'])\n",
    "df['DISCHTIME'] = pd.to_datetime(df['DISCHTIME'])\n",
    "\n",
    "# Convert timedelta type into float 'days', 86400 seconds in a day\n",
    "df['LOS'] = (df['DISCHTIME'] - df['ADMITTIME']).dt.total_seconds()/86400"
   ]
  },
  {
   "cell_type": "code",
   "execution_count": 113,
   "metadata": {},
   "outputs": [],
   "source": [
    "# calculating next admission type and record\n",
    "df['NEXT_ADM'] = df.groupby('SUBJECT_ID').ADMITTIME.shift(-1)\n",
    "df['NEXT_ADM_TYPE'] = df.groupby('SUBJECT_ID').ADMISSION_TYPE.shift(-1)"
   ]
  },
  {
   "cell_type": "code",
   "execution_count": 114,
   "metadata": {},
   "outputs": [],
   "source": [
    "df['ADMITTIME'] = pd.to_datetime(df['ADMITTIME'], format = '%Y-%m-%d %H:%M:%S', errors = 'coerce')\n",
    "df['DEATHTIME'] = pd.to_datetime(df['DEATHTIME'], format = '%Y-%m-%d %H:%M:%S', errors = 'coerce')\n",
    "df['DISCHTIME'] = pd.to_datetime(df['DISCHTIME'], format = '%Y-%m-%d %H:%M:%S', errors = 'coerce')\n",
    "df['NEXT_ADM'] = pd.to_datetime(df['NEXT_ADM'], format = '%Y-%m-%d %H:%M:%S', errors = 'coerce')\n",
    "\n",
    "# Calculating Number of days between dischare and readmission\n",
    "df['NEXT_ADMIT_DAYS'] = (df['NEXT_ADM'] - df['DISCHTIME']).dt.total_seconds()/(24*60*60)"
   ]
  },
  {
   "cell_type": "code",
   "execution_count": 115,
   "metadata": {},
   "outputs": [],
   "source": [
    "readmission_30 = []\n",
    "for index,row in df.iterrows():\n",
    "        if(row['NEXT_ADMIT_DAYS']<=30):\n",
    "            readmission_30.append(1)\n",
    "        else:\n",
    "            readmission_30.append(0)\n",
    "df['Readmission_30'] = readmission_30"
   ]
  },
  {
   "cell_type": "code",
   "execution_count": null,
   "metadata": {},
   "outputs": [],
   "source": []
  },
  {
   "cell_type": "code",
   "execution_count": null,
   "metadata": {},
   "outputs": [],
   "source": []
  },
  {
   "cell_type": "code",
   "execution_count": 116,
   "metadata": {},
   "outputs": [],
   "source": [
    "#df = df[df['LOS']>0]"
   ]
  },
  {
   "cell_type": "code",
   "execution_count": 117,
   "metadata": {},
   "outputs": [
    {
     "data": {
      "text/plain": [
       "Text(0, 0.5, 'Number of Records')"
      ]
     },
     "execution_count": 117,
     "metadata": {},
     "output_type": "execute_result"
    },
    {
     "data": {
      "image/png": "[encoded data removed]",
      "text/plain": [
       "<Figure size 432x288 with 1 Axes>"
      ]
     },
     "metadata": {
      "needs_background": "light"
     },
     "output_type": "display_data"
    }
   ],
   "source": [
    "plt.hist(df['LOS'],bins= 100)\n",
    "plt.xlim(0,50)\n",
    "plt.xlabel('Length_of_stay')\n",
    "plt.ylabel('Number of Records')"
   ]
  },
  {
   "cell_type": "code",
   "execution_count": 118,
   "metadata": {},
   "outputs": [],
   "source": [
    "df = df.drop(columns=['DISCHTIME', 'ROW_ID', \n",
    "                'EDREGTIME', 'EDOUTTIME', 'HOSPITAL_EXPIRE_FLAG',\n",
    "                'HAS_CHARTEVENTS_DATA'])"
   ]
  },
  {
   "cell_type": "code",
   "execution_count": 119,
   "metadata": {},
   "outputs": [],
   "source": [
    "# replacing empty space with null value\n",
    "df['DEATHTIME'] = df['DEATHTIME'].replace(r'^\\s*$', np.nan, regex=True)"
   ]
  },
  {
   "cell_type": "code",
   "execution_count": 120,
   "metadata": {},
   "outputs": [],
   "source": [
    "# Mark admissions where patients died in boolean column\n",
    "df['DECEASED'] = df['DEATHTIME'].notnull().map({True:1, False:0})"
   ]
  },
  {
   "cell_type": "code",
   "execution_count": 121,
   "metadata": {},
   "outputs": [
    {
     "data": {
      "image/png": "[encoded data removed]",
      "text/plain": [
       "<Figure size 432x288 with 1 Axes>"
      ]
     },
     "metadata": {
      "needs_background": "light"
     },
     "output_type": "display_data"
    }
   ],
   "source": [
    "plt.hist(df['LOS'].loc[df['DECEASED'] == 0], bins=200, color = '#55a868')\n",
    "plt.xlim(0, 50)\n",
    "plt.title('Distribution of LOS for hospital admissions')\n",
    "plt.ylabel('Count')\n",
    "plt.xlabel('Length-of-Stay (days)')\n",
    "plt.tick_params(top=False, right=False) \n",
    "plt.show();"
   ]
  },
  {
   "cell_type": "code",
   "execution_count": 122,
   "metadata": {},
   "outputs": [
    {
     "data": {
      "text/plain": [
       "WHITE                                                       40996\n",
       "BLACK/AFRICAN AMERICAN                                       5440\n",
       "UNKNOWN/NOT SPECIFIED                                        4523\n",
       "HISPANIC OR LATINO                                           1696\n",
       "OTHER                                                        1512\n",
       "ASIAN                                                        1509\n",
       "UNABLE TO OBTAIN                                              814\n",
       "PATIENT DECLINED TO ANSWER                                    559\n",
       "ASIAN - CHINESE                                               277\n",
       "HISPANIC/LATINO - PUERTO RICAN                                232\n",
       "BLACK/CAPE VERDEAN                                            200\n",
       "WHITE - RUSSIAN                                               164\n",
       "MULTI RACE ETHNICITY                                          130\n",
       "BLACK/HAITIAN                                                 101\n",
       "ASIAN - ASIAN INDIAN                                           85\n",
       "WHITE - OTHER EUROPEAN                                         81\n",
       "HISPANIC/LATINO - DOMINICAN                                    78\n",
       "PORTUGUESE                                                     61\n",
       "WHITE - BRAZILIAN                                              59\n",
       "ASIAN - VIETNAMESE                                             53\n",
       "AMERICAN INDIAN/ALASKA NATIVE                                  51\n",
       "BLACK/AFRICAN                                                  44\n",
       "MIDDLE EASTERN                                                 43\n",
       "HISPANIC/LATINO - GUATEMALAN                                   40\n",
       "ASIAN - FILIPINO                                               25\n",
       "WHITE - EASTERN EUROPEAN                                       25\n",
       "HISPANIC/LATINO - CUBAN                                        24\n",
       "HISPANIC/LATINO - SALVADORAN                                   19\n",
       "NATIVE HAWAIIAN OR OTHER PACIFIC ISLANDER                      18\n",
       "ASIAN - OTHER                                                  17\n",
       "ASIAN - CAMBODIAN                                              17\n",
       "HISPANIC/LATINO - MEXICAN                                      13\n",
       "HISPANIC/LATINO - CENTRAL AMERICAN (OTHER)                     13\n",
       "ASIAN - KOREAN                                                 13\n",
       "HISPANIC/LATINO - COLOMBIAN                                     9\n",
       "CARIBBEAN ISLAND                                                9\n",
       "SOUTH AMERICAN                                                  8\n",
       "ASIAN - JAPANESE                                                7\n",
       "ASIAN - THAI                                                    4\n",
       "HISPANIC/LATINO - HONDURAN                                      4\n",
       "AMERICAN INDIAN/ALASKA NATIVE FEDERALLY RECOGNIZED TRIBE        3\n",
       "Name: ETHNICITY, dtype: int64"
      ]
     },
     "execution_count": 122,
     "metadata": {},
     "output_type": "execute_result"
    }
   ],
   "source": [
    "df['ETHNICITY'].value_counts()"
   ]
  },
  {
   "cell_type": "code",
   "execution_count": 123,
   "metadata": {},
   "outputs": [],
   "source": [
    "# EHNICITY\n",
    "temp = []\n",
    "for index,row in df.iterrows():\n",
    "    a = row['ETHNICITY']\n",
    "    b = list(a.split('-'))\n",
    "    temp.append(b[0])\n",
    "df['ETHNICITY'] = temp"
   ]
  },
  {
   "cell_type": "code",
   "execution_count": 124,
   "metadata": {},
   "outputs": [],
   "source": [
    "df['ETHNICITY'] = df['ETHNICITY'].replace(to_replace = [\"AMERICAN INDIAN/ALASKA NATIVE\",\"AMERICAN INDIAN/ALASKA NATIVE FEDERALLY RECOGNIZED TRIBE\",\n",
    "                                                                       \"NATIVE HAWAIIAN OR OTHER PACIFIC ISLANDER\",\"CARIBBEAN ISLAND\",\"SOUTH AMERICAN\",\"WHITE\"], value = \"WHITE\")\n",
    "df['ETHNICITY'] = df['ETHNICITY'].replace(to_replace = [\"BLACK/CAPE VERDEAN\", \"BLACK/AFRICAN\", \"BLACK/HAITIAN\"], value = \"BLACK\")\n",
    "df[\"ETHNICITY\"] = df['ETHNICITY'].replace(to_replace = [\"UNKNOWN/NOT SPECIFIED\",\"UNABLE TO OBTAIN\",\"PORTUGUESE\",\n",
    "                                                                       \"MULTI RACE ETHNICITY\",\"MIDDLE EASTERN\",\"NATIVE HAWAIIAN OR OTHER PACIFIC ISLANDER\",\n",
    "                                                                       \"CARIBBEAN ISLAND\"], value = \"OTHERS\")\n",
    "df['ETHNICITY'] = df['ETHNICITY'].replace(to_replace = [\"PATIENT DECLINED TO ANSWER\",\"OTHER\",\"OTHERS\"], value = \"OTHERS\")\n",
    "df['ETHNICITY'] = df['ETHNICITY'].replace(to_replace = [\"WHITE\",\"WHITE\"], value = 'WHITE')\n",
    "df['ETHNICITY'] = df['ETHNICITY'].replace(to_replace = [\"HISPANIC OR LATINO\",\"HISPANIC/LATINO\"], value = \"HISPANIC\")\n",
    "df['ETHNICITY'] = df['ETHNICITY'].replace(to_replace = [\"ASIAN - OTHER\",\"ASIAN - CAMBODIAN\",\"ASIAN - VIETNAMESE\",\"ASIAN - FILIPINO\",\n",
    "                                                                       \"ASIAN - ASIAN INDIAN\",\"ASIAN - CHINESE\",\"ASIAN\"], value = \"ASIAN\")"
   ]
  },
  {
   "cell_type": "code",
   "execution_count": 125,
   "metadata": {},
   "outputs": [],
   "source": [
    "df['ETHNICITY'] = df['ETHNICITY'].replace(to_replace = [\"WHITE\",\"WHITE \"], value=\"WHITE\")\n",
    "df['ETHNICITY'] = df['ETHNICITY'].replace(to_replace = [\"ASIAN\",\"ASIAN \"],value = \"ASIAN\")\n",
    "df['ETHNICITY'] = df['ETHNICITY'].replace(to_replace = [\"BLACK/AFRICAN AMERICAN\",\"BLACK\"], value = \"BLACK\")\n",
    "df['ETHNICITY'] = df['ETHNICITY'].replace(to_replace = [\"HISPANIC\",\"HISPANIC/LATINO \"], value = \"HISPANIC\")"
   ]
  },
  {
   "cell_type": "code",
   "execution_count": 126,
   "metadata": {},
   "outputs": [
    {
     "data": {
      "text/html": [
       "<div>\n",
       "<style scoped>\n",
       "    .dataframe tbody tr th:only-of-type {\n",
       "        vertical-align: middle;\n",
       "    }\n",
       "\n",
       "    .dataframe tbody tr th {\n",
       "        vertical-align: top;\n",
       "    }\n",
       "\n",
       "    .dataframe thead th {\n",
       "        text-align: right;\n",
       "    }\n",
       "</style>\n",
       "<table border=\"1\" class=\"dataframe\">\n",
       "  <thead>\n",
       "    <tr style=\"text-align: right;\">\n",
       "      <th></th>\n",
       "      <th>LOS</th>\n",
       "      <th>NEXT_ADMIT_DAYS</th>\n",
       "      <th>Readmission_30</th>\n",
       "      <th>DECEASED</th>\n",
       "    </tr>\n",
       "    <tr>\n",
       "      <th>ETHNICITY</th>\n",
       "      <th></th>\n",
       "      <th></th>\n",
       "      <th></th>\n",
       "      <th></th>\n",
       "    </tr>\n",
       "  </thead>\n",
       "  <tbody>\n",
       "    <tr>\n",
       "      <th>ASIAN</th>\n",
       "      <td>9.038504</td>\n",
       "      <td>345.056075</td>\n",
       "      <td>0.057299</td>\n",
       "      <td>0.075735</td>\n",
       "    </tr>\n",
       "    <tr>\n",
       "      <th>BLACK</th>\n",
       "      <td>10.270289</td>\n",
       "      <td>331.532065</td>\n",
       "      <td>0.091616</td>\n",
       "      <td>0.072774</td>\n",
       "    </tr>\n",
       "    <tr>\n",
       "      <th>HISPANIC</th>\n",
       "      <td>9.964996</td>\n",
       "      <td>338.986135</td>\n",
       "      <td>0.058741</td>\n",
       "      <td>0.056391</td>\n",
       "    </tr>\n",
       "    <tr>\n",
       "      <th>OTHERS</th>\n",
       "      <td>10.562660</td>\n",
       "      <td>522.940413</td>\n",
       "      <td>0.034415</td>\n",
       "      <td>0.140539</td>\n",
       "    </tr>\n",
       "    <tr>\n",
       "      <th>WHITE</th>\n",
       "      <td>10.097517</td>\n",
       "      <td>399.056761</td>\n",
       "      <td>0.058724</td>\n",
       "      <td>0.098686</td>\n",
       "    </tr>\n",
       "  </tbody>\n",
       "</table>\n",
       "</div>"
      ],
      "text/plain": [
       "                 LOS  NEXT_ADMIT_DAYS  Readmission_30  DECEASED\n",
       "ETHNICITY                                                      \n",
       "ASIAN       9.038504       345.056075        0.057299  0.075735\n",
       "BLACK      10.270289       331.532065        0.091616  0.072774\n",
       "HISPANIC    9.964996       338.986135        0.058741  0.056391\n",
       "OTHERS     10.562660       522.940413        0.034415  0.140539\n",
       "WHITE      10.097517       399.056761        0.058724  0.098686"
      ]
     },
     "execution_count": 126,
     "metadata": {},
     "output_type": "execute_result"
    }
   ],
   "source": [
    "df.groupby('ETHNICITY').mean()"
   ]
  },
  {
   "cell_type": "code",
   "execution_count": 127,
   "metadata": {},
   "outputs": [
    {
     "data": {
      "text/html": [
       "<div>\n",
       "<style scoped>\n",
       "    .dataframe tbody tr th:only-of-type {\n",
       "        vertical-align: middle;\n",
       "    }\n",
       "\n",
       "    .dataframe tbody tr th {\n",
       "        vertical-align: top;\n",
       "    }\n",
       "\n",
       "    .dataframe thead th {\n",
       "        text-align: right;\n",
       "    }\n",
       "</style>\n",
       "<table border=\"1\" class=\"dataframe\">\n",
       "  <thead>\n",
       "    <tr style=\"text-align: right;\">\n",
       "      <th></th>\n",
       "      <th>LOS</th>\n",
       "      <th>NEXT_ADMIT_DAYS</th>\n",
       "      <th>Readmission_30</th>\n",
       "      <th>DECEASED</th>\n",
       "    </tr>\n",
       "    <tr>\n",
       "      <th>MARITAL_STATUS</th>\n",
       "      <th></th>\n",
       "      <th></th>\n",
       "      <th></th>\n",
       "      <th></th>\n",
       "    </tr>\n",
       "  </thead>\n",
       "  <tbody>\n",
       "    <tr>\n",
       "      <th></th>\n",
       "      <td>11.060314</td>\n",
       "      <td>184.550704</td>\n",
       "      <td>0.027152</td>\n",
       "      <td>0.065265</td>\n",
       "    </tr>\n",
       "    <tr>\n",
       "      <th>DIVORCED</th>\n",
       "      <td>10.333638</td>\n",
       "      <td>346.009773</td>\n",
       "      <td>0.069717</td>\n",
       "      <td>0.099284</td>\n",
       "    </tr>\n",
       "    <tr>\n",
       "      <th>LIFE PARTNER</th>\n",
       "      <td>7.909306</td>\n",
       "      <td>296.723264</td>\n",
       "      <td>0.000000</td>\n",
       "      <td>0.000000</td>\n",
       "    </tr>\n",
       "    <tr>\n",
       "      <th>MARRIED</th>\n",
       "      <td>9.960506</td>\n",
       "      <td>435.847789</td>\n",
       "      <td>0.062544</td>\n",
       "      <td>0.107678</td>\n",
       "    </tr>\n",
       "    <tr>\n",
       "      <th>SEPARATED</th>\n",
       "      <td>10.712014</td>\n",
       "      <td>363.289060</td>\n",
       "      <td>0.096322</td>\n",
       "      <td>0.094571</td>\n",
       "    </tr>\n",
       "    <tr>\n",
       "      <th>SINGLE</th>\n",
       "      <td>10.028411</td>\n",
       "      <td>344.435950</td>\n",
       "      <td>0.071073</td>\n",
       "      <td>0.082390</td>\n",
       "    </tr>\n",
       "    <tr>\n",
       "      <th>UNKNOWN (DEFAULT)</th>\n",
       "      <td>11.238098</td>\n",
       "      <td>431.449251</td>\n",
       "      <td>0.040580</td>\n",
       "      <td>0.188406</td>\n",
       "    </tr>\n",
       "    <tr>\n",
       "      <th>WIDOWED</th>\n",
       "      <td>9.426623</td>\n",
       "      <td>415.268631</td>\n",
       "      <td>0.060879</td>\n",
       "      <td>0.146027</td>\n",
       "    </tr>\n",
       "  </tbody>\n",
       "</table>\n",
       "</div>"
      ],
      "text/plain": [
       "                         LOS  NEXT_ADMIT_DAYS  Readmission_30  DECEASED\n",
       "MARITAL_STATUS                                                         \n",
       "                   11.060314       184.550704        0.027152  0.065265\n",
       "DIVORCED           10.333638       346.009773        0.069717  0.099284\n",
       "LIFE PARTNER        7.909306       296.723264        0.000000  0.000000\n",
       "MARRIED             9.960506       435.847789        0.062544  0.107678\n",
       "SEPARATED          10.712014       363.289060        0.096322  0.094571\n",
       "SINGLE             10.028411       344.435950        0.071073  0.082390\n",
       "UNKNOWN (DEFAULT)  11.238098       431.449251        0.040580  0.188406\n",
       "WIDOWED             9.426623       415.268631        0.060879  0.146027"
      ]
     },
     "execution_count": 127,
     "metadata": {},
     "output_type": "execute_result"
    }
   ],
   "source": [
    "df.groupby('MARITAL_STATUS').mean()\n",
    "#df.columns"
   ]
  },
  {
   "cell_type": "code",
   "execution_count": 128,
   "metadata": {},
   "outputs": [
    {
     "name": "stdout",
     "output_type": "stream",
     "text": [
      "RELIGIOUS        38954\n",
      "NOT SPECIFIED    11753\n",
      "UNOBTAINABLE      8269\n",
      "Name: RELIGION, dtype: int64\n"
     ]
    }
   ],
   "source": [
    "# I tested with and without category reduction, with little change in R2 score\n",
    "df['RELIGION'].loc[~df['RELIGION'].isin(['NOT SPECIFIED', 'UNOBTAINABLE'])] = 'RELIGIOUS'\n",
    "\n",
    "print(df['RELIGION'].value_counts())"
   ]
  },
  {
   "cell_type": "code",
   "execution_count": 129,
   "metadata": {},
   "outputs": [],
   "source": [
    "# Re-usable plotting function\n",
    "def plot_los_groupby(variable, size=(7,4)):\n",
    "    ''' \n",
    "    Plot Median LOS by df categorical series name \n",
    "    '''\n",
    "    results = df[[variable, 'LOS']].groupby(variable).median().reset_index()\n",
    "    values = list(results['LOS'].values)\n",
    "    labels = list(results[variable].values)\n",
    "\n",
    "    fig, ax = plt.subplots(figsize=size)\n",
    "    ind = range(len(results))\n",
    "    ax.barh(ind, values, align='center', height=0.6, color = '#55a868', alpha=0.8)\n",
    "    ax.set_yticks(ind)\n",
    "    ax.set_yticklabels(labels)\n",
    "    ax.set_xlabel('Median Length of Stay (days)')\n",
    "    ax.tick_params(left=False, top=False, right=False) \n",
    "    ax.set_title('Comparison of {} labels'.format(variable))\n",
    "    \n",
    "    plt.tight_layout()\n",
    "    plt.show();\n",
    "    \n",
    "# Re-usable boxplot function\n",
    "def boxplot_los_groupby(variable, los_range=(-1, 30), size=(8,4)):\n",
    "    ''' \n",
    "    Boxplot of LOS by df categorical series name \n",
    "    '''\n",
    "    results = df[[variable, 'LOS']].groupby(variable).median().reset_index()\n",
    "\n",
    "    categories = results[variable].values.tolist()\n",
    "\n",
    "    hist_data = []\n",
    "    for cat in categories:\n",
    "        hist_data.append(df['LOS'].loc[df[variable]==cat].values)\n",
    "\n",
    "    fig, ax = plt.subplots(figsize=size)\n",
    "    ax.boxplot(hist_data, 0, '', vert=False)\n",
    "    ax.set_xlim(los_range)\n",
    "    ax.set_yticklabels(categories)\n",
    "    ax.set_xlabel('Length of Stay (days)')\n",
    "    ax.tick_params(left=False, right=False) \n",
    "    ax.set_title('Comparison of {} categories'.format(variable))\n",
    "    plt.tight_layout()\n",
    "    plt.show();"
   ]
  },
  {
   "cell_type": "code",
   "execution_count": 130,
   "metadata": {},
   "outputs": [
    {
     "data": {
      "image/png": "[encoded data removed]",
      "text/plain": [
       "<Figure size 504x288 with 1 Axes>"
      ]
     },
     "metadata": {
      "needs_background": "light"
     },
     "output_type": "display_data"
    }
   ],
   "source": [
    "boxplot_los_groupby('Readmission_30', los_range=(-5, 35), size=(7, 4))"
   ]
  },
  {
   "cell_type": "code",
   "execution_count": 131,
   "metadata": {},
   "outputs": [
    {
     "data": {
      "text/plain": [
       "Index(['ROW_ID', 'SUBJECT_ID', 'HADM_ID', 'SEQ_NUM', 'ICD9_CODE'], dtype='object')"
      ]
     },
     "execution_count": 131,
     "metadata": {},
     "output_type": "execute_result"
    }
   ],
   "source": [
    "df_diagcode.columns"
   ]
  },
  {
   "cell_type": "code",
   "execution_count": 132,
   "metadata": {},
   "outputs": [],
   "source": [
    "# Filter out E and V codes since processing will be done on the numeric first 3 values\n",
    "df_diagcode['code'] = df_diagcode['ICD9_CODE']\n",
    "df_diagcode['code'] = df_diagcode['code'][~df_diagcode['code'].str.contains(\"[a-zA-Z]\").fillna(False)]\n",
    "df_diagcode['code'].fillna(value='999', inplace=True)\n",
    "df_diagcode['code'] = df_diagcode['code'].str.slice(start=0, stop=3, step=1)\n",
    "df_diagcode[['code']] = df_diagcode[['code']].apply(pd.to_numeric)\n",
    "\n",
    "\n",
    "# ICD-9 Important Category ranges\n",
    "icd9_ranges = [(1, 140), (140, 240), (240, 280), (280, 290), (290, 320), (320, 390),\n",
    "               (390, 460), (460, 520), (520, 580), (580, 630), (630, 680), (680, 710),\n",
    "               (710, 740), (740, 760), (760, 780), (780, 800), (800, 1000), (1000, 2000)]\n",
    "\n",
    "# Associated category names\n",
    "diag_dict = {0: 'infectious', 1: 'neoplasms', 2: 'endocrine', 3: 'blood',\n",
    "             4: 'mental', 5: 'nervous', 6: 'circulatory', 7: 'respiratory',\n",
    "             8: 'digestive', 9: 'genitourinary', 10: 'pregnancy', 11: 'skin',\n",
    "             12: 'muscular', 13: 'congenital', 14: 'prenatal', 15: 'misc',\n",
    "             16: 'injury', 17: 'misc'}\n",
    "\n",
    "# Re-code in terms of integer\n",
    "for num, cat_range in enumerate(icd9_ranges):\n",
    "    df_diagcode['code'] = np.where(df_diagcode['code'].between(cat_range[0],cat_range[1]),\n",
    "            num, df_diagcode['code'])\n",
    "\n",
    "# Convert integer to category name using diag_dict\n",
    "df_diagcode['code'] = df_diagcode['code']\n",
    "df_diagcode['category'] = df_diagcode['code'].replace(diag_dict)"
   ]
  },
  {
   "cell_type": "code",
   "execution_count": 133,
   "metadata": {},
   "outputs": [
    {
     "data": {
      "text/html": [
       "<div>\n",
       "<style scoped>\n",
       "    .dataframe tbody tr th:only-of-type {\n",
       "        vertical-align: middle;\n",
       "    }\n",
       "\n",
       "    .dataframe tbody tr th {\n",
       "        vertical-align: top;\n",
       "    }\n",
       "\n",
       "    .dataframe thead th {\n",
       "        text-align: right;\n",
       "    }\n",
       "</style>\n",
       "<table border=\"1\" class=\"dataframe\">\n",
       "  <thead>\n",
       "    <tr style=\"text-align: right;\">\n",
       "      <th></th>\n",
       "      <th>HADM_ID</th>\n",
       "      <th>category</th>\n",
       "    </tr>\n",
       "  </thead>\n",
       "  <tbody>\n",
       "    <tr>\n",
       "      <th>0</th>\n",
       "      <td>100001</td>\n",
       "      <td>[endocrine, nervous, genitourinary, digestive,...</td>\n",
       "    </tr>\n",
       "    <tr>\n",
       "      <th>1</th>\n",
       "      <td>100003</td>\n",
       "      <td>[digestive, blood, infectious, digestive, circ...</td>\n",
       "    </tr>\n",
       "    <tr>\n",
       "      <th>2</th>\n",
       "      <td>100006</td>\n",
       "      <td>[respiratory, respiratory, respiratory, neopla...</td>\n",
       "    </tr>\n",
       "    <tr>\n",
       "      <th>3</th>\n",
       "      <td>100007</td>\n",
       "      <td>[digestive, digestive, injury, respiratory, ci...</td>\n",
       "    </tr>\n",
       "    <tr>\n",
       "      <th>4</th>\n",
       "      <td>100009</td>\n",
       "      <td>[circulatory, injury, circulatory, endocrine, ...</td>\n",
       "    </tr>\n",
       "    <tr>\n",
       "      <th>...</th>\n",
       "      <td>...</td>\n",
       "      <td>...</td>\n",
       "    </tr>\n",
       "    <tr>\n",
       "      <th>58971</th>\n",
       "      <td>199993</td>\n",
       "      <td>[circulatory, circulatory, circulatory, circul...</td>\n",
       "    </tr>\n",
       "    <tr>\n",
       "      <th>58972</th>\n",
       "      <td>199994</td>\n",
       "      <td>[respiratory, circulatory, respiratory, circul...</td>\n",
       "    </tr>\n",
       "    <tr>\n",
       "      <th>58973</th>\n",
       "      <td>199995</td>\n",
       "      <td>[circulatory, congenital, circulatory, mental,...</td>\n",
       "    </tr>\n",
       "    <tr>\n",
       "      <th>58974</th>\n",
       "      <td>199998</td>\n",
       "      <td>[circulatory, injury, injury, circulatory, mis...</td>\n",
       "    </tr>\n",
       "    <tr>\n",
       "      <th>58975</th>\n",
       "      <td>199999</td>\n",
       "      <td>[respiratory, respiratory, respiratory, genito...</td>\n",
       "    </tr>\n",
       "  </tbody>\n",
       "</table>\n",
       "<p>58976 rows × 2 columns</p>\n",
       "</div>"
      ],
      "text/plain": [
       "      HADM_ID                                           category\n",
       "0      100001  [endocrine, nervous, genitourinary, digestive,...\n",
       "1      100003  [digestive, blood, infectious, digestive, circ...\n",
       "2      100006  [respiratory, respiratory, respiratory, neopla...\n",
       "3      100007  [digestive, digestive, injury, respiratory, ci...\n",
       "4      100009  [circulatory, injury, circulatory, endocrine, ...\n",
       "...       ...                                                ...\n",
       "58971  199993  [circulatory, circulatory, circulatory, circul...\n",
       "58972  199994  [respiratory, circulatory, respiratory, circul...\n",
       "58973  199995  [circulatory, congenital, circulatory, mental,...\n",
       "58974  199998  [circulatory, injury, injury, circulatory, mis...\n",
       "58975  199999  [respiratory, respiratory, respiratory, genito...\n",
       "\n",
       "[58976 rows x 2 columns]"
      ]
     },
     "execution_count": 133,
     "metadata": {},
     "output_type": "execute_result"
    }
   ],
   "source": [
    "# list of diagnosis for each admission\n",
    "hadm_list = df_diagcode.groupby('HADM_ID')['category'].apply(list).reset_index()\n",
    "hadm_list"
   ]
  },
  {
   "cell_type": "code",
   "execution_count": 134,
   "metadata": {},
   "outputs": [
    {
     "data": {
      "text/html": [
       "<div>\n",
       "<style scoped>\n",
       "    .dataframe tbody tr th:only-of-type {\n",
       "        vertical-align: middle;\n",
       "    }\n",
       "\n",
       "    .dataframe tbody tr th {\n",
       "        vertical-align: top;\n",
       "    }\n",
       "\n",
       "    .dataframe thead th {\n",
       "        text-align: right;\n",
       "    }\n",
       "</style>\n",
       "<table border=\"1\" class=\"dataframe\">\n",
       "  <thead>\n",
       "    <tr style=\"text-align: right;\">\n",
       "      <th></th>\n",
       "      <th>blood</th>\n",
       "      <th>circulatory</th>\n",
       "      <th>congenital</th>\n",
       "      <th>digestive</th>\n",
       "      <th>endocrine</th>\n",
       "      <th>genitourinary</th>\n",
       "      <th>infectious</th>\n",
       "      <th>injury</th>\n",
       "      <th>mental</th>\n",
       "      <th>misc</th>\n",
       "      <th>muscular</th>\n",
       "      <th>neoplasms</th>\n",
       "      <th>nervous</th>\n",
       "      <th>pregnancy</th>\n",
       "      <th>prenatal</th>\n",
       "      <th>respiratory</th>\n",
       "      <th>skin</th>\n",
       "      <th>HADM_ID</th>\n",
       "    </tr>\n",
       "  </thead>\n",
       "  <tbody>\n",
       "    <tr>\n",
       "      <th>0</th>\n",
       "      <td>0.0</td>\n",
       "      <td>2.0</td>\n",
       "      <td>0.0</td>\n",
       "      <td>2.0</td>\n",
       "      <td>5.0</td>\n",
       "      <td>2.0</td>\n",
       "      <td>0.0</td>\n",
       "      <td>2.0</td>\n",
       "      <td>0.0</td>\n",
       "      <td>0.0</td>\n",
       "      <td>0.0</td>\n",
       "      <td>0.0</td>\n",
       "      <td>2.0</td>\n",
       "      <td>0.0</td>\n",
       "      <td>0.0</td>\n",
       "      <td>0.0</td>\n",
       "      <td>1.0</td>\n",
       "      <td>100001</td>\n",
       "    </tr>\n",
       "    <tr>\n",
       "      <th>1</th>\n",
       "      <td>1.0</td>\n",
       "      <td>2.0</td>\n",
       "      <td>0.0</td>\n",
       "      <td>4.0</td>\n",
       "      <td>0.0</td>\n",
       "      <td>0.0</td>\n",
       "      <td>1.0</td>\n",
       "      <td>0.0</td>\n",
       "      <td>0.0</td>\n",
       "      <td>1.0</td>\n",
       "      <td>0.0</td>\n",
       "      <td>0.0</td>\n",
       "      <td>0.0</td>\n",
       "      <td>0.0</td>\n",
       "      <td>0.0</td>\n",
       "      <td>0.0</td>\n",
       "      <td>0.0</td>\n",
       "      <td>100003</td>\n",
       "    </tr>\n",
       "    <tr>\n",
       "      <th>2</th>\n",
       "      <td>0.0</td>\n",
       "      <td>0.0</td>\n",
       "      <td>0.0</td>\n",
       "      <td>0.0</td>\n",
       "      <td>1.0</td>\n",
       "      <td>0.0</td>\n",
       "      <td>0.0</td>\n",
       "      <td>2.0</td>\n",
       "      <td>1.0</td>\n",
       "      <td>1.0</td>\n",
       "      <td>0.0</td>\n",
       "      <td>1.0</td>\n",
       "      <td>0.0</td>\n",
       "      <td>0.0</td>\n",
       "      <td>0.0</td>\n",
       "      <td>3.0</td>\n",
       "      <td>0.0</td>\n",
       "      <td>100006</td>\n",
       "    </tr>\n",
       "    <tr>\n",
       "      <th>3</th>\n",
       "      <td>0.0</td>\n",
       "      <td>1.0</td>\n",
       "      <td>0.0</td>\n",
       "      <td>2.0</td>\n",
       "      <td>0.0</td>\n",
       "      <td>0.0</td>\n",
       "      <td>0.0</td>\n",
       "      <td>1.0</td>\n",
       "      <td>0.0</td>\n",
       "      <td>0.0</td>\n",
       "      <td>0.0</td>\n",
       "      <td>0.0</td>\n",
       "      <td>0.0</td>\n",
       "      <td>0.0</td>\n",
       "      <td>0.0</td>\n",
       "      <td>1.0</td>\n",
       "      <td>0.0</td>\n",
       "      <td>100007</td>\n",
       "    </tr>\n",
       "    <tr>\n",
       "      <th>4</th>\n",
       "      <td>1.0</td>\n",
       "      <td>7.0</td>\n",
       "      <td>0.0</td>\n",
       "      <td>0.0</td>\n",
       "      <td>3.0</td>\n",
       "      <td>0.0</td>\n",
       "      <td>0.0</td>\n",
       "      <td>7.0</td>\n",
       "      <td>0.0</td>\n",
       "      <td>0.0</td>\n",
       "      <td>0.0</td>\n",
       "      <td>0.0</td>\n",
       "      <td>0.0</td>\n",
       "      <td>0.0</td>\n",
       "      <td>0.0</td>\n",
       "      <td>0.0</td>\n",
       "      <td>0.0</td>\n",
       "      <td>100009</td>\n",
       "    </tr>\n",
       "  </tbody>\n",
       "</table>\n",
       "</div>"
      ],
      "text/plain": [
       "   blood  circulatory  congenital  digestive  endocrine  genitourinary  \\\n",
       "0    0.0          2.0         0.0        2.0        5.0            2.0   \n",
       "1    1.0          2.0         0.0        4.0        0.0            0.0   \n",
       "2    0.0          0.0         0.0        0.0        1.0            0.0   \n",
       "3    0.0          1.0         0.0        2.0        0.0            0.0   \n",
       "4    1.0          7.0         0.0        0.0        3.0            0.0   \n",
       "\n",
       "   infectious  injury  mental  misc  muscular  neoplasms  nervous  pregnancy  \\\n",
       "0         0.0     2.0     0.0   0.0       0.0        0.0      2.0        0.0   \n",
       "1         1.0     0.0     0.0   1.0       0.0        0.0      0.0        0.0   \n",
       "2         0.0     2.0     1.0   1.0       0.0        1.0      0.0        0.0   \n",
       "3         0.0     1.0     0.0   0.0       0.0        0.0      0.0        0.0   \n",
       "4         0.0     7.0     0.0   0.0       0.0        0.0      0.0        0.0   \n",
       "\n",
       "   prenatal  respiratory  skin HADM_ID  \n",
       "0       0.0          0.0   1.0  100001  \n",
       "1       0.0          0.0   0.0  100003  \n",
       "2       0.0          3.0   0.0  100006  \n",
       "3       0.0          1.0   0.0  100007  \n",
       "4       0.0          0.0   0.0  100009  "
      ]
     },
     "execution_count": 134,
     "metadata": {},
     "output_type": "execute_result"
    }
   ],
   "source": [
    "# Duplicating the list of categories\n",
    "hadm_item = pd.get_dummies(hadm_list['category'].apply(pd.Series).stack()).sum(level=0)\n",
    "# joining HADM_ID to the hadm_item\n",
    "hadm_item = hadm_item.join(hadm_list['HADM_ID'], how=\"outer\")\n",
    "hadm_item.head()"
   ]
  },
  {
   "cell_type": "code",
   "execution_count": 135,
   "metadata": {},
   "outputs": [],
   "source": [
    "# Merge with data\n",
    "df = df.merge(hadm_item, on = 'HADM_ID', how='inner')"
   ]
  },
  {
   "cell_type": "code",
   "execution_count": 136,
   "metadata": {},
   "outputs": [
    {
     "data": {
      "text/plain": [
       "Index(['SUBJECT_ID', 'HADM_ID', 'ADMITTIME', 'DEATHTIME', 'ADMISSION_TYPE',\n",
       "       'ADMISSION_LOCATION', 'DISCHARGE_LOCATION', 'INSURANCE', 'LANGUAGE',\n",
       "       'RELIGION', 'MARITAL_STATUS', 'ETHNICITY', 'DIAGNOSIS', 'LOS',\n",
       "       'NEXT_ADM', 'NEXT_ADM_TYPE', 'NEXT_ADMIT_DAYS', 'Readmission_30',\n",
       "       'DECEASED', 'blood', 'circulatory', 'congenital', 'digestive',\n",
       "       'endocrine', 'genitourinary', 'infectious', 'injury', 'mental', 'misc',\n",
       "       'muscular', 'neoplasms', 'nervous', 'pregnancy', 'prenatal',\n",
       "       'respiratory', 'skin'],\n",
       "      dtype='object')"
      ]
     },
     "execution_count": 136,
     "metadata": {},
     "output_type": "execute_result"
    }
   ],
   "source": [
    "df.columns"
   ]
  },
  {
   "cell_type": "code",
   "execution_count": 137,
   "metadata": {},
   "outputs": [],
   "source": [
    "df_pat = df_pat[['SUBJECT_ID', 'DOB', 'GENDER']]\n",
    "df = df.merge(df_pat, how='inner', on='SUBJECT_ID')\n",
    "df_age_min = df[['SUBJECT_ID', 'ADMITTIME']].groupby('SUBJECT_ID').min().reset_index()\n",
    "df_age_min.columns = ['SUBJECT_ID', 'ADMIT_MIN']\n"
   ]
  },
  {
   "cell_type": "code",
   "execution_count": 138,
   "metadata": {},
   "outputs": [],
   "source": [
    "df = df.merge(df_age_min, how='outer', on='SUBJECT_ID')"
   ]
  },
  {
   "cell_type": "code",
   "execution_count": 139,
   "metadata": {},
   "outputs": [
    {
     "data": {
      "text/plain": [
       "Index(['SUBJECT_ID', 'HADM_ID', 'ADMITTIME', 'DEATHTIME', 'ADMISSION_TYPE',\n",
       "       'ADMISSION_LOCATION', 'DISCHARGE_LOCATION', 'INSURANCE', 'LANGUAGE',\n",
       "       'RELIGION', 'MARITAL_STATUS', 'ETHNICITY', 'DIAGNOSIS', 'LOS',\n",
       "       'NEXT_ADM', 'NEXT_ADM_TYPE', 'NEXT_ADMIT_DAYS', 'Readmission_30',\n",
       "       'DECEASED', 'blood', 'circulatory', 'congenital', 'digestive',\n",
       "       'endocrine', 'genitourinary', 'infectious', 'injury', 'mental', 'misc',\n",
       "       'muscular', 'neoplasms', 'nervous', 'pregnancy', 'prenatal',\n",
       "       'respiratory', 'skin', 'DOB', 'GENDER', 'ADMIT_MIN'],\n",
       "      dtype='object')"
      ]
     },
     "execution_count": 139,
     "metadata": {},
     "output_type": "execute_result"
    }
   ],
   "source": [
    "df.columns"
   ]
  },
  {
   "cell_type": "code",
   "execution_count": 140,
   "metadata": {},
   "outputs": [],
   "source": [
    "df['DOB'] = pd.to_datetime(df['DOB'])"
   ]
  },
  {
   "cell_type": "code",
   "execution_count": 141,
   "metadata": {},
   "outputs": [
    {
     "name": "stdout",
     "output_type": "stream",
     "text": [
      "<class 'pandas.core.frame.DataFrame'>\n",
      "Int64Index: 58976 entries, 0 to 58975\n",
      "Data columns (total 39 columns):\n",
      " #   Column              Non-Null Count  Dtype         \n",
      "---  ------              --------------  -----         \n",
      " 0   SUBJECT_ID          58976 non-null  object        \n",
      " 1   HADM_ID             58976 non-null  object        \n",
      " 2   ADMITTIME           58976 non-null  datetime64[ns]\n",
      " 3   DEATHTIME           5854 non-null   datetime64[ns]\n",
      " 4   ADMISSION_TYPE      58976 non-null  object        \n",
      " 5   ADMISSION_LOCATION  58976 non-null  object        \n",
      " 6   DISCHARGE_LOCATION  58976 non-null  object        \n",
      " 7   INSURANCE           58976 non-null  object        \n",
      " 8   LANGUAGE            58976 non-null  object        \n",
      " 9   RELIGION            58976 non-null  object        \n",
      " 10  MARITAL_STATUS      58976 non-null  object        \n",
      " 11  ETHNICITY           58976 non-null  object        \n",
      " 12  DIAGNOSIS           58976 non-null  object        \n",
      " 13  LOS                 58976 non-null  float64       \n",
      " 14  NEXT_ADM            12456 non-null  datetime64[ns]\n",
      " 15  NEXT_ADM_TYPE       12456 non-null  object        \n",
      " 16  NEXT_ADMIT_DAYS     12456 non-null  float64       \n",
      " 17  Readmission_30      58976 non-null  int64         \n",
      " 18  DECEASED            58976 non-null  int64         \n",
      " 19  blood               58929 non-null  float64       \n",
      " 20  circulatory         58929 non-null  float64       \n",
      " 21  congenital          58929 non-null  float64       \n",
      " 22  digestive           58929 non-null  float64       \n",
      " 23  endocrine           58929 non-null  float64       \n",
      " 24  genitourinary       58929 non-null  float64       \n",
      " 25  infectious          58929 non-null  float64       \n",
      " 26  injury              58929 non-null  float64       \n",
      " 27  mental              58929 non-null  float64       \n",
      " 28  misc                58929 non-null  float64       \n",
      " 29  muscular            58929 non-null  float64       \n",
      " 30  neoplasms           58929 non-null  float64       \n",
      " 31  nervous             58929 non-null  float64       \n",
      " 32  pregnancy           58929 non-null  float64       \n",
      " 33  prenatal            58929 non-null  float64       \n",
      " 34  respiratory         58929 non-null  float64       \n",
      " 35  skin                58929 non-null  float64       \n",
      " 36  DOB                 58976 non-null  datetime64[ns]\n",
      " 37  GENDER              58976 non-null  object        \n",
      " 38  ADMIT_MIN           58976 non-null  datetime64[ns]\n",
      "dtypes: datetime64[ns](5), float64(19), int64(2), object(13)\n",
      "memory usage: 18.0+ MB\n"
     ]
    }
   ],
   "source": [
    "df.info()"
   ]
  },
  {
   "cell_type": "code",
   "execution_count": 142,
   "metadata": {},
   "outputs": [],
   "source": [
    "# replacing empty space with null value\n",
    "df['ADMIT_MIN'] = df['ADMIT_MIN'].replace(r'^\\s*$', np.nan, regex=True)"
   ]
  },
  {
   "cell_type": "code",
   "execution_count": 143,
   "metadata": {},
   "outputs": [],
   "source": [
    "# replacing empty space with null value\n",
    "df['DOB'] = df['DOB'].replace(r'^\\s*$', np.nan, regex=True)"
   ]
  },
  {
   "cell_type": "code",
   "execution_count": 144,
   "metadata": {},
   "outputs": [],
   "source": [
    "df['DOB'] = pd.to_datetime(df['DOB'])"
   ]
  },
  {
   "cell_type": "code",
   "execution_count": 145,
   "metadata": {},
   "outputs": [],
   "source": [
    "df['ADMIT_MIN'] = pd.to_datetime(df['ADMIT_MIN'])"
   ]
  },
  {
   "cell_type": "code",
   "execution_count": 146,
   "metadata": {},
   "outputs": [],
   "source": [
    "#import datetime as dt\n",
    "# Age is decode by finding the difference in admission date and date of birth\n",
    "#df['ADMIT_MIN'] = pd.to_datetime(df['ADMIT_MIN']).dt.date\n",
    "\n",
    "#df['DOB'] = pd.to_datetime(df['DOB']).dt.date\n",
    "\n",
    "#df['age'] = (df['ADMIT_MIN'] - df['DOB']).dt.days // 365"
   ]
  },
  {
   "cell_type": "code",
   "execution_count": 147,
   "metadata": {},
   "outputs": [],
   "source": [
    "#age_ranges = [(0, 13), (13, 36), (36, 56), (56, 100)]\n",
    "#for num, cat_range in enumerate(age_ranges):\n",
    "#    df['age'] = np.where(df['age'].between(cat_range[0],cat_range[1]), \n",
    "#            num, df['age'])\n",
    "    \n",
    "#age_dict = {0: 'newborn', 1: 'young_adult', 2: 'middle_adult', 3: 'senior'}\n",
    "#df['age'] = df['age'].replace(age_dict)\n",
    "#df.age.value_counts()"
   ]
  },
  {
   "cell_type": "code",
   "execution_count": 148,
   "metadata": {},
   "outputs": [],
   "source": [
    "# Based on above statistics, reduce to just ICU and NICU groups\n",
    "df_icu['FIRST_CAREUNIT'].replace({'CCU': 'ICU', 'CSRU': 'ICU', 'MICU': 'ICU',\n",
    "                                  'SICU': 'ICU', 'TSICU': 'ICU'}, inplace=True)"
   ]
  },
  {
   "cell_type": "code",
   "execution_count": 149,
   "metadata": {},
   "outputs": [
    {
     "data": {
      "text/html": [
       "<div>\n",
       "<style scoped>\n",
       "    .dataframe tbody tr th:only-of-type {\n",
       "        vertical-align: middle;\n",
       "    }\n",
       "\n",
       "    .dataframe tbody tr th {\n",
       "        vertical-align: top;\n",
       "    }\n",
       "\n",
       "    .dataframe thead th {\n",
       "        text-align: right;\n",
       "    }\n",
       "</style>\n",
       "<table border=\"1\" class=\"dataframe\">\n",
       "  <thead>\n",
       "    <tr style=\"text-align: right;\">\n",
       "      <th></th>\n",
       "      <th>HADM_ID</th>\n",
       "      <th>cat</th>\n",
       "    </tr>\n",
       "  </thead>\n",
       "  <tbody>\n",
       "    <tr>\n",
       "      <th>0</th>\n",
       "      <td>100001</td>\n",
       "      <td>[ICU]</td>\n",
       "    </tr>\n",
       "    <tr>\n",
       "      <th>1</th>\n",
       "      <td>100003</td>\n",
       "      <td>[ICU]</td>\n",
       "    </tr>\n",
       "    <tr>\n",
       "      <th>2</th>\n",
       "      <td>100006</td>\n",
       "      <td>[ICU]</td>\n",
       "    </tr>\n",
       "    <tr>\n",
       "      <th>3</th>\n",
       "      <td>100007</td>\n",
       "      <td>[ICU]</td>\n",
       "    </tr>\n",
       "    <tr>\n",
       "      <th>4</th>\n",
       "      <td>100009</td>\n",
       "      <td>[ICU]</td>\n",
       "    </tr>\n",
       "  </tbody>\n",
       "</table>\n",
       "</div>"
      ],
      "text/plain": [
       "  HADM_ID    cat\n",
       "0  100001  [ICU]\n",
       "1  100003  [ICU]\n",
       "2  100006  [ICU]\n",
       "3  100007  [ICU]\n",
       "4  100009  [ICU]"
      ]
     },
     "execution_count": 149,
     "metadata": {},
     "output_type": "execute_result"
    }
   ],
   "source": [
    "df_icu['cat'] = df_icu['FIRST_CAREUNIT']\n",
    "icu_list = df_icu.groupby('HADM_ID')['cat'].apply(list).reset_index()\n",
    "icu_list.head()"
   ]
  },
  {
   "cell_type": "code",
   "execution_count": 150,
   "metadata": {},
   "outputs": [],
   "source": [
    "icu_item = pd.get_dummies(icu_list['cat'].apply(pd.Series).stack()).sum(level=0)\n",
    "icu_item[icu_item >= 1] = 1\n",
    "icu_item = icu_item.join(icu_list['HADM_ID'], how=\"outer\")"
   ]
  },
  {
   "cell_type": "code",
   "execution_count": 151,
   "metadata": {},
   "outputs": [],
   "source": [
    "df = df.merge(icu_item, how='outer', on='HADM_ID')"
   ]
  },
  {
   "cell_type": "code",
   "execution_count": 152,
   "metadata": {},
   "outputs": [],
   "source": [
    "df['ICU'] = df['ICU'].fillna(0)\n",
    "df['NICU'] = df['NICU'].fillna(0)"
   ]
  },
  {
   "cell_type": "code",
   "execution_count": 153,
   "metadata": {},
   "outputs": [],
   "source": [
    "df1 = df[df['DECEASED'] == 0]"
   ]
  },
  {
   "cell_type": "code",
   "execution_count": 154,
   "metadata": {},
   "outputs": [
    {
     "name": "stdout",
     "output_type": "stream",
     "text": [
      "<class 'pandas.core.frame.DataFrame'>\n",
      "Int64Index: 53122 entries, 0 to 58975\n",
      "Data columns (total 41 columns):\n",
      " #   Column              Non-Null Count  Dtype         \n",
      "---  ------              --------------  -----         \n",
      " 0   SUBJECT_ID          53122 non-null  object        \n",
      " 1   HADM_ID             53122 non-null  object        \n",
      " 2   ADMITTIME           53122 non-null  datetime64[ns]\n",
      " 3   DEATHTIME           0 non-null      datetime64[ns]\n",
      " 4   ADMISSION_TYPE      53122 non-null  object        \n",
      " 5   ADMISSION_LOCATION  53122 non-null  object        \n",
      " 6   DISCHARGE_LOCATION  53122 non-null  object        \n",
      " 7   INSURANCE           53122 non-null  object        \n",
      " 8   LANGUAGE            53122 non-null  object        \n",
      " 9   RELIGION            53122 non-null  object        \n",
      " 10  MARITAL_STATUS      53122 non-null  object        \n",
      " 11  ETHNICITY           53122 non-null  object        \n",
      " 12  DIAGNOSIS           53122 non-null  object        \n",
      " 13  LOS                 53122 non-null  float64       \n",
      " 14  NEXT_ADM            12393 non-null  datetime64[ns]\n",
      " 15  NEXT_ADM_TYPE       12393 non-null  object        \n",
      " 16  NEXT_ADMIT_DAYS     12393 non-null  float64       \n",
      " 17  Readmission_30      53122 non-null  int64         \n",
      " 18  DECEASED            53122 non-null  int64         \n",
      " 19  blood               53105 non-null  float64       \n",
      " 20  circulatory         53105 non-null  float64       \n",
      " 21  congenital          53105 non-null  float64       \n",
      " 22  digestive           53105 non-null  float64       \n",
      " 23  endocrine           53105 non-null  float64       \n",
      " 24  genitourinary       53105 non-null  float64       \n",
      " 25  infectious          53105 non-null  float64       \n",
      " 26  injury              53105 non-null  float64       \n",
      " 27  mental              53105 non-null  float64       \n",
      " 28  misc                53105 non-null  float64       \n",
      " 29  muscular            53105 non-null  float64       \n",
      " 30  neoplasms           53105 non-null  float64       \n",
      " 31  nervous             53105 non-null  float64       \n",
      " 32  pregnancy           53105 non-null  float64       \n",
      " 33  prenatal            53105 non-null  float64       \n",
      " 34  respiratory         53105 non-null  float64       \n",
      " 35  skin                53105 non-null  float64       \n",
      " 36  DOB                 53122 non-null  datetime64[ns]\n",
      " 37  GENDER              53122 non-null  object        \n",
      " 38  ADMIT_MIN           53122 non-null  datetime64[ns]\n",
      " 39  ICU                 53122 non-null  float64       \n",
      " 40  NICU                53122 non-null  float64       \n",
      "dtypes: datetime64[ns](5), float64(21), int64(2), object(13)\n",
      "memory usage: 17.0+ MB\n"
     ]
    }
   ],
   "source": [
    "df1.info()"
   ]
  },
  {
   "cell_type": "code",
   "execution_count": 155,
   "metadata": {},
   "outputs": [],
   "source": [
    "df1 = df1.drop(columns = ['NEXT_ADM','NEXT_ADM_TYPE'])"
   ]
  },
  {
   "cell_type": "code",
   "execution_count": 156,
   "metadata": {},
   "outputs": [],
   "source": [
    "df1 = df1.dropna()"
   ]
  },
  {
   "cell_type": "code",
   "execution_count": 157,
   "metadata": {},
   "outputs": [],
   "source": [
    "df1 = df.drop(columns = ['SUBJECT_ID', 'HADM_ID', 'ADMITTIME','ADMIT_MIN', 'DOB',\n",
    "                'DIAGNOSIS', 'DECEASED',  'DEATHTIME'])"
   ]
  },
  {
   "cell_type": "code",
   "execution_count": 158,
   "metadata": {},
   "outputs": [],
   "source": [
    "df1['ADMISSION_LOCATION'] = df1['ADMISSION_LOCATION'].replace(to_replace =[\"TRANSFER FROM SKILLED NUR\", \"TRANSFER FROM OTHER HEALT\", \"** INFO NOT AVAILABLE **\",\"TRSF WITHIN THIS FACILITY\",\"HMO REFERRAL/SICK\"],  \n",
    "                            value =\"OTHERS\") \n"
   ]
  },
  {
   "cell_type": "code",
   "execution_count": 159,
   "metadata": {},
   "outputs": [],
   "source": [
    "df1['DISCHARGE_LOCATION'] = df1['DISCHARGE_LOCATION'].replace(to_replace = [\"HOSPICE-HOME\",\"HOME WITH HOME IV PROVIDR\",\n",
    "                                                                                          \"OTHER FACILITY\",\"HOSPICE-MEDICAL FACILITY\",\n",
    "                                                                                          \"ICF\",\"DISC-TRAN TO FEDERAL HC\",\"SNF-MEDICAID ONLY CERTIF\"], value = \"OTHERS\")"
   ]
  },
  {
   "cell_type": "code",
   "execution_count": 160,
   "metadata": {},
   "outputs": [],
   "source": [
    "df1['DISCHARGE_LOCATION'] = df1['DISCHARGE_LOCATION'].replace(to_replace = [\"OTHERS\"], value = \"DIS_OTHERS\")"
   ]
  },
  {
   "cell_type": "code",
   "execution_count": 161,
   "metadata": {},
   "outputs": [],
   "source": [
    "temp = []\n",
    "for index,row in df1.iterrows():\n",
    "    if(row['GENDER'] == 'M'):\n",
    "        row['GENDER'] = 1\n",
    "    else:\n",
    "        row['GENDER'] = 0"
   ]
  },
  {
   "cell_type": "code",
   "execution_count": 162,
   "metadata": {},
   "outputs": [],
   "source": [
    "df1 = df1.drop(columns = ['GENDER'])\n"
   ]
  },
  {
   "cell_type": "code",
   "execution_count": 163,
   "metadata": {},
   "outputs": [],
   "source": [
    "df1['MARITAL_STATUS'] = df1['MARITAL_STATUS'].replace(r'^\\s*$', 'UNKNOWN (DEFAULT)', regex=True)"
   ]
  },
  {
   "cell_type": "code",
   "execution_count": 164,
   "metadata": {},
   "outputs": [
    {
     "data": {
      "text/plain": [
       "WHITE       41414\n",
       "OTHERS       7642\n",
       "BLACK        5785\n",
       "HISPANIC     2128\n",
       "ASIAN        2007\n",
       "Name: ETHNICITY, dtype: int64"
      ]
     },
     "execution_count": 164,
     "metadata": {},
     "output_type": "execute_result"
    }
   ],
   "source": [
    "df1['ETHNICITY'].value_counts()"
   ]
  },
  {
   "cell_type": "code",
   "execution_count": 165,
   "metadata": {},
   "outputs": [],
   "source": [
    "data1 = pd.get_dummies(df['ADMISSION_TYPE'], dummy_na=False)\n",
    "data2 = pd.get_dummies(df['ADMISSION_LOCATION'],dummy_na = False)\n",
    "data3 = pd.get_dummies(df['DISCHARGE_LOCATION'],dummy_na = False)\n",
    "data4 = pd.get_dummies(df['ETHNICITY'],dummy_na = False)\n",
    "data5 = pd.get_dummies(df['MARITAL_STATUS'], dummy_na = False)\n",
    "data6 = pd.get_dummies(df['ETHNICITY'], dummy_na = False)\n",
    "df1 = pd.concat([df1,data1,data2,data3,data4,data5,data6],axis=1)"
   ]
  },
  {
   "cell_type": "code",
   "execution_count": 166,
   "metadata": {},
   "outputs": [],
   "source": [
    "df1 = df1.drop(columns = ['ADMISSION_TYPE','ADMISSION_LOCATION','DISCHARGE_LOCATION','ETHNICITY','MARITAL_STATUS','ETHNICITY'], axis = 1)"
   ]
  },
  {
   "cell_type": "code",
   "execution_count": 167,
   "metadata": {},
   "outputs": [],
   "source": [
    "df1 = df1.drop(columns = ['INSURANCE','LANGUAGE','RELIGION'])"
   ]
  },
  {
   "cell_type": "code",
   "execution_count": 168,
   "metadata": {},
   "outputs": [],
   "source": [
    "df1 = df1.drop(columns = [''])"
   ]
  },
  {
   "cell_type": "code",
   "execution_count": 169,
   "metadata": {},
   "outputs": [],
   "source": [
    "df1 = df1.drop(columns = ['NEXT_ADM_TYPE'])"
   ]
  },
  {
   "cell_type": "code",
   "execution_count": 170,
   "metadata": {},
   "outputs": [],
   "source": [
    "df1 = df1.drop(columns = ['NEXT_ADM'])"
   ]
  },
  {
   "cell_type": "code",
   "execution_count": 171,
   "metadata": {},
   "outputs": [],
   "source": [
    "#df1['blood'] = df1['blood'].astype(int)                     \n",
    "#df1['circulatory'] = df1['circulatory'].astype(int)              \n",
    "#df1['congenital'] = df1['congenital'].astype(int)                \n",
    "#df1['digestive'] = df1['digestive'].astype(int)                  \n",
    "#df1['endocrine'] = df1['endocrine'].astype(int)                  \n",
    "#df1['genitourinary'] = df1['genitourinary'].astype(int)              \n",
    "#df1['infectious'] = df1['infectious'].astype(int)                 \n",
    "#df1['injury'] = df1['injury'].astype(int)                    \n",
    "#df1['mental'] = df1['mental'].astype(int)                     \n",
    "#df1['misc'] = df1['misc'].astype(int)                       \n",
    "#df1['muscular'] = df1['muscular'].astype(int)                   \n",
    "#df1['neoplasms'] = df1['neoplasms'].astype(int)                  \n",
    "#df1['nervous'] = df1['nervous'].astype(int)                    \n",
    "#df1['pregnancy'] = df1['pregnancy'].astype(int)                  \n",
    "#df1['prenatal'] = df1['prenatal'].astype(int)                \n",
    "#df1['respiratory'] = df1['respiratory'].astype(int)               \n",
    "#df1['skin'] = df['skin'].astype(int)                      \n",
    "#df1['ICU'] = df1['ICU'].astype(int)                        \n",
    "#df1['NICU'] =  df1['NICU'].astype(int)"
   ]
  },
  {
   "cell_type": "code",
   "execution_count": 172,
   "metadata": {},
   "outputs": [
    {
     "name": "stdout",
     "output_type": "stream",
     "text": [
      "<class 'pandas.core.frame.DataFrame'>\n",
      "Int64Index: 58976 entries, 0 to 58975\n",
      "Data columns (total 69 columns):\n",
      " #   Column                     Non-Null Count  Dtype  \n",
      "---  ------                     --------------  -----  \n",
      " 0   LOS                        58976 non-null  float64\n",
      " 1   NEXT_ADMIT_DAYS            12456 non-null  float64\n",
      " 2   Readmission_30             58976 non-null  int64  \n",
      " 3   blood                      58929 non-null  float64\n",
      " 4   circulatory                58929 non-null  float64\n",
      " 5   congenital                 58929 non-null  float64\n",
      " 6   digestive                  58929 non-null  float64\n",
      " 7   endocrine                  58929 non-null  float64\n",
      " 8   genitourinary              58929 non-null  float64\n",
      " 9   infectious                 58929 non-null  float64\n",
      " 10  injury                     58929 non-null  float64\n",
      " 11  mental                     58929 non-null  float64\n",
      " 12  misc                       58929 non-null  float64\n",
      " 13  muscular                   58929 non-null  float64\n",
      " 14  neoplasms                  58929 non-null  float64\n",
      " 15  nervous                    58929 non-null  float64\n",
      " 16  pregnancy                  58929 non-null  float64\n",
      " 17  prenatal                   58929 non-null  float64\n",
      " 18  respiratory                58929 non-null  float64\n",
      " 19  skin                       58929 non-null  float64\n",
      " 20  ICU                        58976 non-null  float64\n",
      " 21  NICU                       58976 non-null  float64\n",
      " 22  ELECTIVE                   58976 non-null  uint8  \n",
      " 23  EMERGENCY                  58976 non-null  uint8  \n",
      " 24  NEWBORN                    58976 non-null  uint8  \n",
      " 25  URGENT                     58976 non-null  uint8  \n",
      " 26  ** INFO NOT AVAILABLE **   58976 non-null  uint8  \n",
      " 27  CLINIC REFERRAL/PREMATURE  58976 non-null  uint8  \n",
      " 28  EMERGENCY ROOM ADMIT       58976 non-null  uint8  \n",
      " 29  HMO REFERRAL/SICK          58976 non-null  uint8  \n",
      " 30  PHYS REFERRAL/NORMAL DELI  58976 non-null  uint8  \n",
      " 31  TRANSFER FROM HOSP/EXTRAM  58976 non-null  uint8  \n",
      " 32  TRANSFER FROM OTHER HEALT  58976 non-null  uint8  \n",
      " 33  TRANSFER FROM SKILLED NUR  58976 non-null  uint8  \n",
      " 34  TRSF WITHIN THIS FACILITY  58976 non-null  uint8  \n",
      " 35  DEAD/EXPIRED               58976 non-null  uint8  \n",
      " 36  DISC-TRAN CANCER/CHLDRN H  58976 non-null  uint8  \n",
      " 37  DISC-TRAN TO FEDERAL HC    58976 non-null  uint8  \n",
      " 38  DISCH-TRAN TO PSYCH HOSP   58976 non-null  uint8  \n",
      " 39  HOME                       58976 non-null  uint8  \n",
      " 40  HOME HEALTH CARE           58976 non-null  uint8  \n",
      " 41  HOME WITH HOME IV PROVIDR  58976 non-null  uint8  \n",
      " 42  HOSPICE-HOME               58976 non-null  uint8  \n",
      " 43  HOSPICE-MEDICAL FACILITY   58976 non-null  uint8  \n",
      " 44  ICF                        58976 non-null  uint8  \n",
      " 45  LEFT AGAINST MEDICAL ADVI  58976 non-null  uint8  \n",
      " 46  LONG TERM CARE HOSPITAL    58976 non-null  uint8  \n",
      " 47  OTHER FACILITY             58976 non-null  uint8  \n",
      " 48  REHAB/DISTINCT PART HOSP   58976 non-null  uint8  \n",
      " 49  SHORT TERM HOSPITAL        58976 non-null  uint8  \n",
      " 50  SNF                        58976 non-null  uint8  \n",
      " 51  SNF-MEDICAID ONLY CERTIF   58976 non-null  uint8  \n",
      " 52  ASIAN                      58976 non-null  uint8  \n",
      " 53  BLACK                      58976 non-null  uint8  \n",
      " 54  HISPANIC                   58976 non-null  uint8  \n",
      " 55  OTHERS                     58976 non-null  uint8  \n",
      " 56  WHITE                      58976 non-null  uint8  \n",
      " 57  DIVORCED                   58976 non-null  uint8  \n",
      " 58  LIFE PARTNER               58976 non-null  uint8  \n",
      " 59  MARRIED                    58976 non-null  uint8  \n",
      " 60  SEPARATED                  58976 non-null  uint8  \n",
      " 61  SINGLE                     58976 non-null  uint8  \n",
      " 62  UNKNOWN (DEFAULT)          58976 non-null  uint8  \n",
      " 63  WIDOWED                    58976 non-null  uint8  \n",
      " 64  ASIAN                      58976 non-null  uint8  \n",
      " 65  BLACK                      58976 non-null  uint8  \n",
      " 66  HISPANIC                   58976 non-null  uint8  \n",
      " 67  OTHERS                     58976 non-null  uint8  \n",
      " 68  WHITE                      58976 non-null  uint8  \n",
      "dtypes: float64(21), int64(1), uint8(47)\n",
      "memory usage: 13.0 MB\n"
     ]
    }
   ],
   "source": [
    "df1.info()"
   ]
  },
  {
   "cell_type": "code",
   "execution_count": 173,
   "metadata": {},
   "outputs": [],
   "source": [
    "df1 = df1.fillna(0)"
   ]
  },
  {
   "cell_type": "code",
   "execution_count": 174,
   "metadata": {},
   "outputs": [],
   "source": [
    "df1 = df1.drop(columns = ['NEXT_ADMIT_DAYS'])"
   ]
  },
  {
   "cell_type": "code",
   "execution_count": 175,
   "metadata": {},
   "outputs": [],
   "source": [
    "pts = df1.iloc[:,0].unique()\n",
    "trp, tsp = train_test_split(pts, train_size=0.8)\n",
    "train = df1[df1.iloc[:,0].isin(trp)]\n",
    "test = df1[df1.iloc[:,0].isin(tsp)]"
   ]
  },
  {
   "cell_type": "code",
   "execution_count": 176,
   "metadata": {},
   "outputs": [],
   "source": [
    "Y_train = train['Readmission_30']\n",
    "X_train = train.drop(columns = ['Readmission_30'])\n",
    "Y_test = test['Readmission_30']\n",
    "X_test = test.drop(columns = ['Readmission_30'])"
   ]
  },
  {
   "cell_type": "code",
   "execution_count": 177,
   "metadata": {},
   "outputs": [
    {
     "name": "stdout",
     "output_type": "stream",
     "text": [
      "0.716329070849335\n"
     ]
    }
   ],
   "source": [
    "from sklearn.linear_model import LogisticRegression\n",
    "from sklearn.metrics import auc\n",
    "from sklearn.metrics import roc_curve\n",
    "lr = LogisticRegression()\n",
    "lr.fit(X_train, Y_train)\n",
    "probs = lr.predict_proba(X_test)[:,1]\n",
    "fpr, tpr, thresholds = roc_curve(Y_test, probs)\n",
    "temp = auc(fpr,tpr)\n",
    "print(temp)"
   ]
  },
  {
   "cell_type": "code",
   "execution_count": 77,
   "metadata": {},
   "outputs": [
    {
     "data": {
      "text/plain": [
       "Text(0, 0.5, 'True Positive Rate')"
      ]
     },
     "execution_count": 77,
     "metadata": {},
     "output_type": "execute_result"
    },
    {
     "data": {
      "image/png": "[encoded data removed]",
      "text/plain": [
       "<Figure size 432x288 with 1 Axes>"
      ]
     },
     "metadata": {
      "needs_background": "light"
     },
     "output_type": "display_data"
    }
   ],
   "source": [
    "plt.plot(fpr,tpr)\n",
    "plt.xlabel('False Positive Rate')\n",
    "plt.ylabel('True Positive Rate')"
   ]
  },
  {
   "cell_type": "code",
   "execution_count": null,
   "metadata": {},
   "outputs": [],
   "source": [
    "# Random Forest\n",
    "from sklearn.ensemble import RandomForestClassifier\n",
    "rf = RandomForestClassifier()\n",
    "rf.fit(X_train, Y_train)\n",
    "probs = rf.predict_proba(X_test)[:,1]\n",
    "fpr, tpr, thresholds = roc_curve(Y_test, probs)\n",
    "temp = auc(fpr,tpr)\n",
    "print(temp)"
   ]
  },
  {
   "cell_type": "code",
   "execution_count": 79,
   "metadata": {},
   "outputs": [],
   "source": [
    "# Hyper parameter tuning\n",
    "from skopt.space import Integer, Categorical, Real\n",
    "from sklearn.model_selection import cross_validate\n",
    "from sklearn.model_selection import cross_val_score\n",
    "from skopt.utils import use_named_args\n",
    "from skopt import gp_minimize\n",
    "space = [Integer(10, 60, name='n_estimators'),\n",
    "         Integer(2, 40, name='max_features'),\n",
    "         Categorical(['gini','entropy'], name='criterion')]"
   ]
  },
  {
   "cell_type": "code",
   "execution_count": 90,
   "metadata": {},
   "outputs": [],
   "source": [
    "# Vaiable improtance plot\n",
    "df_imp = pd.DataFrame()\n",
    "df_imp['cls'] = X_train.columns\n",
    "df_imp['imp'] = rf.feature_importances_"
   ]
  },
  {
   "cell_type": "code",
   "execution_count": 91,
   "metadata": {},
   "outputs": [],
   "source": [
    "# Ranking attributes\n",
    "df = df_imp.sort_values('imp',ascending=False)"
   ]
  },
  {
   "cell_type": "code",
   "execution_count": 92,
   "metadata": {},
   "outputs": [
    {
     "name": "stdout",
     "output_type": "stream",
     "text": [
      "['LOS']\n",
      "0.5087894339838206\n",
      "['LOS', 'blood']\n",
      "0.511572646554399\n",
      "['LOS', 'blood', 'circulatory']\n",
      "0.5230768731426315\n",
      "['LOS', 'blood', 'circulatory', 'congenital']\n",
      "0.5305451656165652\n",
      "['LOS', 'blood', 'circulatory', 'congenital', 'digestive']\n",
      "0.5383245287526145\n",
      "['LOS', 'blood', 'circulatory', 'congenital', 'digestive', 'endocrine']\n",
      "0.5542227582723894\n",
      "['LOS', 'blood', 'circulatory', 'congenital', 'digestive', 'endocrine', 'genitourinary']\n",
      "0.566968995498823\n",
      "['LOS', 'blood', 'circulatory', 'congenital', 'digestive', 'endocrine', 'genitourinary', 'infectious']\n",
      "0.5735937879344569\n",
      "['LOS', 'blood', 'circulatory', 'congenital', 'digestive', 'endocrine', 'genitourinary', 'infectious', 'injury']\n",
      "0.5919904497671513\n",
      "['LOS', 'blood', 'circulatory', 'congenital', 'digestive', 'endocrine', 'genitourinary', 'infectious', 'injury', 'mental']\n",
      "0.5976132856773771\n",
      "['LOS', 'blood', 'circulatory', 'congenital', 'digestive', 'endocrine', 'genitourinary', 'infectious', 'injury', 'mental', 'misc']\n",
      "0.5995090510397368\n",
      "['LOS', 'blood', 'circulatory', 'congenital', 'digestive', 'endocrine', 'genitourinary', 'infectious', 'injury', 'mental', 'misc', 'muscular']\n",
      "0.6033665349766242\n",
      "['LOS', 'blood', 'circulatory', 'congenital', 'digestive', 'endocrine', 'genitourinary', 'infectious', 'injury', 'mental', 'misc', 'muscular', 'neoplasms']\n",
      "0.6106339168288448\n",
      "['LOS', 'blood', 'circulatory', 'congenital', 'digestive', 'endocrine', 'genitourinary', 'infectious', 'injury', 'mental', 'misc', 'muscular', 'neoplasms', 'nervous']\n",
      "0.6046800165662005\n",
      "['LOS', 'blood', 'circulatory', 'congenital', 'digestive', 'endocrine', 'genitourinary', 'infectious', 'injury', 'mental', 'misc', 'muscular', 'neoplasms', 'nervous', 'pregnancy']\n",
      "0.6008032529993781\n",
      "['LOS', 'blood', 'circulatory', 'congenital', 'digestive', 'endocrine', 'genitourinary', 'infectious', 'injury', 'mental', 'misc', 'muscular', 'neoplasms', 'nervous', 'pregnancy', 'prenatal']\n",
      "0.6029083029641294\n",
      "['LOS', 'blood', 'circulatory', 'congenital', 'digestive', 'endocrine', 'genitourinary', 'infectious', 'injury', 'mental', 'misc', 'muscular', 'neoplasms', 'nervous', 'pregnancy', 'prenatal', 'respiratory']\n",
      "0.6140366741404986\n",
      "['LOS', 'blood', 'circulatory', 'congenital', 'digestive', 'endocrine', 'genitourinary', 'infectious', 'injury', 'mental', 'misc', 'muscular', 'neoplasms', 'nervous', 'pregnancy', 'prenatal', 'respiratory', 'skin']\n",
      "0.6129500690041974\n",
      "['LOS', 'blood', 'circulatory', 'congenital', 'digestive', 'endocrine', 'genitourinary', 'infectious', 'injury', 'mental', 'misc', 'muscular', 'neoplasms', 'nervous', 'pregnancy', 'prenatal', 'respiratory', 'skin', 'ICU']\n",
      "0.6128544498294695\n",
      "['LOS', 'blood', 'circulatory', 'congenital', 'digestive', 'endocrine', 'genitourinary', 'infectious', 'injury', 'mental', 'misc', 'muscular', 'neoplasms', 'nervous', 'pregnancy', 'prenatal', 'respiratory', 'skin', 'ICU', 'NICU']\n",
      "0.6276029772422469\n",
      "['LOS', 'blood', 'circulatory', 'congenital', 'digestive', 'endocrine', 'genitourinary', 'infectious', 'injury', 'mental', 'misc', 'muscular', 'neoplasms', 'nervous', 'pregnancy', 'prenatal', 'respiratory', 'skin', 'ICU', 'NICU', 'ELECTIVE']\n",
      "0.6364853039884816\n",
      "['LOS', 'blood', 'circulatory', 'congenital', 'digestive', 'endocrine', 'genitourinary', 'infectious', 'injury', 'mental', 'misc', 'muscular', 'neoplasms', 'nervous', 'pregnancy', 'prenatal', 'respiratory', 'skin', 'ICU', 'NICU', 'ELECTIVE', 'EMERGENCY']\n",
      "0.6380761006591427\n",
      "['LOS', 'blood', 'circulatory', 'congenital', 'digestive', 'endocrine', 'genitourinary', 'infectious', 'injury', 'mental', 'misc', 'muscular', 'neoplasms', 'nervous', 'pregnancy', 'prenatal', 'respiratory', 'skin', 'ICU', 'NICU', 'ELECTIVE', 'EMERGENCY', 'NEWBORN']\n",
      "0.638218912732735\n",
      "['LOS', 'blood', 'circulatory', 'congenital', 'digestive', 'endocrine', 'genitourinary', 'infectious', 'injury', 'mental', 'misc', 'muscular', 'neoplasms', 'nervous', 'pregnancy', 'prenatal', 'respiratory', 'skin', 'ICU', 'NICU', 'ELECTIVE', 'EMERGENCY', 'NEWBORN', 'URGENT']\n",
      "0.6387010333102671\n",
      "['LOS', 'blood', 'circulatory', 'congenital', 'digestive', 'endocrine', 'genitourinary', 'infectious', 'injury', 'mental', 'misc', 'muscular', 'neoplasms', 'nervous', 'pregnancy', 'prenatal', 'respiratory', 'skin', 'ICU', 'NICU', 'ELECTIVE', 'EMERGENCY', 'NEWBORN', 'URGENT', '** INFO NOT AVAILABLE **']\n",
      "0.6405894633252104\n",
      "['LOS', 'blood', 'circulatory', 'congenital', 'digestive', 'endocrine', 'genitourinary', 'infectious', 'injury', 'mental', 'misc', 'muscular', 'neoplasms', 'nervous', 'pregnancy', 'prenatal', 'respiratory', 'skin', 'ICU', 'NICU', 'ELECTIVE', 'EMERGENCY', 'NEWBORN', 'URGENT', '** INFO NOT AVAILABLE **', 'CLINIC REFERRAL/PREMATURE']\n",
      "0.6305540589138752\n",
      "['LOS', 'blood', 'circulatory', 'congenital', 'digestive', 'endocrine', 'genitourinary', 'infectious', 'injury', 'mental', 'misc', 'muscular', 'neoplasms', 'nervous', 'pregnancy', 'prenatal', 'respiratory', 'skin', 'ICU', 'NICU', 'ELECTIVE', 'EMERGENCY', 'NEWBORN', 'URGENT', '** INFO NOT AVAILABLE **', 'CLINIC REFERRAL/PREMATURE', 'EMERGENCY ROOM ADMIT']\n",
      "0.6377664581177629\n",
      "['LOS', 'blood', 'circulatory', 'congenital', 'digestive', 'endocrine', 'genitourinary', 'infectious', 'injury', 'mental', 'misc', 'muscular', 'neoplasms', 'nervous', 'pregnancy', 'prenatal', 'respiratory', 'skin', 'ICU', 'NICU', 'ELECTIVE', 'EMERGENCY', 'NEWBORN', 'URGENT', '** INFO NOT AVAILABLE **', 'CLINIC REFERRAL/PREMATURE', 'EMERGENCY ROOM ADMIT', 'HMO REFERRAL/SICK']\n",
      "0.6447245220014982\n",
      "['LOS', 'blood', 'circulatory', 'congenital', 'digestive', 'endocrine', 'genitourinary', 'infectious', 'injury', 'mental', 'misc', 'muscular', 'neoplasms', 'nervous', 'pregnancy', 'prenatal', 'respiratory', 'skin', 'ICU', 'NICU', 'ELECTIVE', 'EMERGENCY', 'NEWBORN', 'URGENT', '** INFO NOT AVAILABLE **', 'CLINIC REFERRAL/PREMATURE', 'EMERGENCY ROOM ADMIT', 'HMO REFERRAL/SICK', 'PHYS REFERRAL/NORMAL DELI']\n",
      "0.640562913262438\n",
      "['LOS', 'blood', 'circulatory', 'congenital', 'digestive', 'endocrine', 'genitourinary', 'infectious', 'injury', 'mental', 'misc', 'muscular', 'neoplasms', 'nervous', 'pregnancy', 'prenatal', 'respiratory', 'skin', 'ICU', 'NICU', 'ELECTIVE', 'EMERGENCY', 'NEWBORN', 'URGENT', '** INFO NOT AVAILABLE **', 'CLINIC REFERRAL/PREMATURE', 'EMERGENCY ROOM ADMIT', 'HMO REFERRAL/SICK', 'PHYS REFERRAL/NORMAL DELI', 'TRANSFER FROM HOSP/EXTRAM']\n",
      "0.6547080596642878\n",
      "['LOS', 'blood', 'circulatory', 'congenital', 'digestive', 'endocrine', 'genitourinary', 'infectious', 'injury', 'mental', 'misc', 'muscular', 'neoplasms', 'nervous', 'pregnancy', 'prenatal', 'respiratory', 'skin', 'ICU', 'NICU', 'ELECTIVE', 'EMERGENCY', 'NEWBORN', 'URGENT', '** INFO NOT AVAILABLE **', 'CLINIC REFERRAL/PREMATURE', 'EMERGENCY ROOM ADMIT', 'HMO REFERRAL/SICK', 'PHYS REFERRAL/NORMAL DELI', 'TRANSFER FROM HOSP/EXTRAM', 'TRANSFER FROM OTHER HEALT']\n",
      "0.6425094418255018\n",
      "['LOS', 'blood', 'circulatory', 'congenital', 'digestive', 'endocrine', 'genitourinary', 'infectious', 'injury', 'mental', 'misc', 'muscular', 'neoplasms', 'nervous', 'pregnancy', 'prenatal', 'respiratory', 'skin', 'ICU', 'NICU', 'ELECTIVE', 'EMERGENCY', 'NEWBORN', 'URGENT', '** INFO NOT AVAILABLE **', 'CLINIC REFERRAL/PREMATURE', 'EMERGENCY ROOM ADMIT', 'HMO REFERRAL/SICK', 'PHYS REFERRAL/NORMAL DELI', 'TRANSFER FROM HOSP/EXTRAM', 'TRANSFER FROM OTHER HEALT', 'TRANSFER FROM SKILLED NUR']\n",
      "0.6435210057085881\n",
      "['LOS', 'blood', 'circulatory', 'congenital', 'digestive', 'endocrine', 'genitourinary', 'infectious', 'injury', 'mental', 'misc', 'muscular', 'neoplasms', 'nervous', 'pregnancy', 'prenatal', 'respiratory', 'skin', 'ICU', 'NICU', 'ELECTIVE', 'EMERGENCY', 'NEWBORN', 'URGENT', '** INFO NOT AVAILABLE **', 'CLINIC REFERRAL/PREMATURE', 'EMERGENCY ROOM ADMIT', 'HMO REFERRAL/SICK', 'PHYS REFERRAL/NORMAL DELI', 'TRANSFER FROM HOSP/EXTRAM', 'TRANSFER FROM OTHER HEALT', 'TRANSFER FROM SKILLED NUR', 'TRSF WITHIN THIS FACILITY']\n",
      "0.6412432829639478\n",
      "['LOS', 'blood', 'circulatory', 'congenital', 'digestive', 'endocrine', 'genitourinary', 'infectious', 'injury', 'mental', 'misc', 'muscular', 'neoplasms', 'nervous', 'pregnancy', 'prenatal', 'respiratory', 'skin', 'ICU', 'NICU', 'ELECTIVE', 'EMERGENCY', 'NEWBORN', 'URGENT', '** INFO NOT AVAILABLE **', 'CLINIC REFERRAL/PREMATURE', 'EMERGENCY ROOM ADMIT', 'HMO REFERRAL/SICK', 'PHYS REFERRAL/NORMAL DELI', 'TRANSFER FROM HOSP/EXTRAM', 'TRANSFER FROM OTHER HEALT', 'TRANSFER FROM SKILLED NUR', 'TRSF WITHIN THIS FACILITY', 'DEAD/EXPIRED']\n",
      "0.6810013852771138\n",
      "['LOS', 'blood', 'circulatory', 'congenital', 'digestive', 'endocrine', 'genitourinary', 'infectious', 'injury', 'mental', 'misc', 'muscular', 'neoplasms', 'nervous', 'pregnancy', 'prenatal', 'respiratory', 'skin', 'ICU', 'NICU', 'ELECTIVE', 'EMERGENCY', 'NEWBORN', 'URGENT', '** INFO NOT AVAILABLE **', 'CLINIC REFERRAL/PREMATURE', 'EMERGENCY ROOM ADMIT', 'HMO REFERRAL/SICK', 'PHYS REFERRAL/NORMAL DELI', 'TRANSFER FROM HOSP/EXTRAM', 'TRANSFER FROM OTHER HEALT', 'TRANSFER FROM SKILLED NUR', 'TRSF WITHIN THIS FACILITY', 'DEAD/EXPIRED', 'DISC-TRAN CANCER/CHLDRN H']\n",
      "0.679690370441536\n",
      "['LOS', 'blood', 'circulatory', 'congenital', 'digestive', 'endocrine', 'genitourinary', 'infectious', 'injury', 'mental', 'misc', 'muscular', 'neoplasms', 'nervous', 'pregnancy', 'prenatal', 'respiratory', 'skin', 'ICU', 'NICU', 'ELECTIVE', 'EMERGENCY', 'NEWBORN', 'URGENT', '** INFO NOT AVAILABLE **', 'CLINIC REFERRAL/PREMATURE', 'EMERGENCY ROOM ADMIT', 'HMO REFERRAL/SICK', 'PHYS REFERRAL/NORMAL DELI', 'TRANSFER FROM HOSP/EXTRAM', 'TRANSFER FROM OTHER HEALT', 'TRANSFER FROM SKILLED NUR', 'TRSF WITHIN THIS FACILITY', 'DEAD/EXPIRED', 'DISC-TRAN CANCER/CHLDRN H', 'DISC-TRAN TO FEDERAL HC']\n",
      "0.6792892632584782\n",
      "['LOS', 'blood', 'circulatory', 'congenital', 'digestive', 'endocrine', 'genitourinary', 'infectious', 'injury', 'mental', 'misc', 'muscular', 'neoplasms', 'nervous', 'pregnancy', 'prenatal', 'respiratory', 'skin', 'ICU', 'NICU', 'ELECTIVE', 'EMERGENCY', 'NEWBORN', 'URGENT', '** INFO NOT AVAILABLE **', 'CLINIC REFERRAL/PREMATURE', 'EMERGENCY ROOM ADMIT', 'HMO REFERRAL/SICK', 'PHYS REFERRAL/NORMAL DELI', 'TRANSFER FROM HOSP/EXTRAM', 'TRANSFER FROM OTHER HEALT', 'TRANSFER FROM SKILLED NUR', 'TRSF WITHIN THIS FACILITY', 'DEAD/EXPIRED', 'DISC-TRAN CANCER/CHLDRN H', 'DISC-TRAN TO FEDERAL HC', 'DISCH-TRAN TO PSYCH HOSP']\n",
      "0.6858989305972272\n",
      "['LOS', 'blood', 'circulatory', 'congenital', 'digestive', 'endocrine', 'genitourinary', 'infectious', 'injury', 'mental', 'misc', 'muscular', 'neoplasms', 'nervous', 'pregnancy', 'prenatal', 'respiratory', 'skin', 'ICU', 'NICU', 'ELECTIVE', 'EMERGENCY', 'NEWBORN', 'URGENT', '** INFO NOT AVAILABLE **', 'CLINIC REFERRAL/PREMATURE', 'EMERGENCY ROOM ADMIT', 'HMO REFERRAL/SICK', 'PHYS REFERRAL/NORMAL DELI', 'TRANSFER FROM HOSP/EXTRAM', 'TRANSFER FROM OTHER HEALT', 'TRANSFER FROM SKILLED NUR', 'TRSF WITHIN THIS FACILITY', 'DEAD/EXPIRED', 'DISC-TRAN CANCER/CHLDRN H', 'DISC-TRAN TO FEDERAL HC', 'DISCH-TRAN TO PSYCH HOSP', 'HOME']\n",
      "0.6808439674232676\n",
      "['LOS', 'blood', 'circulatory', 'congenital', 'digestive', 'endocrine', 'genitourinary', 'infectious', 'injury', 'mental', 'misc', 'muscular', 'neoplasms', 'nervous', 'pregnancy', 'prenatal', 'respiratory', 'skin', 'ICU', 'NICU', 'ELECTIVE', 'EMERGENCY', 'NEWBORN', 'URGENT', '** INFO NOT AVAILABLE **', 'CLINIC REFERRAL/PREMATURE', 'EMERGENCY ROOM ADMIT', 'HMO REFERRAL/SICK', 'PHYS REFERRAL/NORMAL DELI', 'TRANSFER FROM HOSP/EXTRAM', 'TRANSFER FROM OTHER HEALT', 'TRANSFER FROM SKILLED NUR', 'TRSF WITHIN THIS FACILITY', 'DEAD/EXPIRED', 'DISC-TRAN CANCER/CHLDRN H', 'DISC-TRAN TO FEDERAL HC', 'DISCH-TRAN TO PSYCH HOSP', 'HOME', 'HOME HEALTH CARE']\n",
      "0.6882141739684748\n",
      "['LOS', 'blood', 'circulatory', 'congenital', 'digestive', 'endocrine', 'genitourinary', 'infectious', 'injury', 'mental', 'misc', 'muscular', 'neoplasms', 'nervous', 'pregnancy', 'prenatal', 'respiratory', 'skin', 'ICU', 'NICU', 'ELECTIVE', 'EMERGENCY', 'NEWBORN', 'URGENT', '** INFO NOT AVAILABLE **', 'CLINIC REFERRAL/PREMATURE', 'EMERGENCY ROOM ADMIT', 'HMO REFERRAL/SICK', 'PHYS REFERRAL/NORMAL DELI', 'TRANSFER FROM HOSP/EXTRAM', 'TRANSFER FROM OTHER HEALT', 'TRANSFER FROM SKILLED NUR', 'TRSF WITHIN THIS FACILITY', 'DEAD/EXPIRED', 'DISC-TRAN CANCER/CHLDRN H', 'DISC-TRAN TO FEDERAL HC', 'DISCH-TRAN TO PSYCH HOSP', 'HOME', 'HOME HEALTH CARE', 'HOME WITH HOME IV PROVIDR']\n",
      "0.6901986126456195\n",
      "['LOS', 'blood', 'circulatory', 'congenital', 'digestive', 'endocrine', 'genitourinary', 'infectious', 'injury', 'mental', 'misc', 'muscular', 'neoplasms', 'nervous', 'pregnancy', 'prenatal', 'respiratory', 'skin', 'ICU', 'NICU', 'ELECTIVE', 'EMERGENCY', 'NEWBORN', 'URGENT', '** INFO NOT AVAILABLE **', 'CLINIC REFERRAL/PREMATURE', 'EMERGENCY ROOM ADMIT', 'HMO REFERRAL/SICK', 'PHYS REFERRAL/NORMAL DELI', 'TRANSFER FROM HOSP/EXTRAM', 'TRANSFER FROM OTHER HEALT', 'TRANSFER FROM SKILLED NUR', 'TRSF WITHIN THIS FACILITY', 'DEAD/EXPIRED', 'DISC-TRAN CANCER/CHLDRN H', 'DISC-TRAN TO FEDERAL HC', 'DISCH-TRAN TO PSYCH HOSP', 'HOME', 'HOME HEALTH CARE', 'HOME WITH HOME IV PROVIDR', 'HOSPICE-HOME']\n",
      "0.680721343783715\n",
      "['LOS', 'blood', 'circulatory', 'congenital', 'digestive', 'endocrine', 'genitourinary', 'infectious', 'injury', 'mental', 'misc', 'muscular', 'neoplasms', 'nervous', 'pregnancy', 'prenatal', 'respiratory', 'skin', 'ICU', 'NICU', 'ELECTIVE', 'EMERGENCY', 'NEWBORN', 'URGENT', '** INFO NOT AVAILABLE **', 'CLINIC REFERRAL/PREMATURE', 'EMERGENCY ROOM ADMIT', 'HMO REFERRAL/SICK', 'PHYS REFERRAL/NORMAL DELI', 'TRANSFER FROM HOSP/EXTRAM', 'TRANSFER FROM OTHER HEALT', 'TRANSFER FROM SKILLED NUR', 'TRSF WITHIN THIS FACILITY', 'DEAD/EXPIRED', 'DISC-TRAN CANCER/CHLDRN H', 'DISC-TRAN TO FEDERAL HC', 'DISCH-TRAN TO PSYCH HOSP', 'HOME', 'HOME HEALTH CARE', 'HOME WITH HOME IV PROVIDR', 'HOSPICE-HOME', 'HOSPICE-MEDICAL FACILITY']\n",
      "0.6868642103855537\n",
      "['LOS', 'blood', 'circulatory', 'congenital', 'digestive', 'endocrine', 'genitourinary', 'infectious', 'injury', 'mental', 'misc', 'muscular', 'neoplasms', 'nervous', 'pregnancy', 'prenatal', 'respiratory', 'skin', 'ICU', 'NICU', 'ELECTIVE', 'EMERGENCY', 'NEWBORN', 'URGENT', '** INFO NOT AVAILABLE **', 'CLINIC REFERRAL/PREMATURE', 'EMERGENCY ROOM ADMIT', 'HMO REFERRAL/SICK', 'PHYS REFERRAL/NORMAL DELI', 'TRANSFER FROM HOSP/EXTRAM', 'TRANSFER FROM OTHER HEALT', 'TRANSFER FROM SKILLED NUR', 'TRSF WITHIN THIS FACILITY', 'DEAD/EXPIRED', 'DISC-TRAN CANCER/CHLDRN H', 'DISC-TRAN TO FEDERAL HC', 'DISCH-TRAN TO PSYCH HOSP', 'HOME', 'HOME HEALTH CARE', 'HOME WITH HOME IV PROVIDR', 'HOSPICE-HOME', 'HOSPICE-MEDICAL FACILITY', 'ICF']\n",
      "0.6783638410215996\n",
      "['LOS', 'blood', 'circulatory', 'congenital', 'digestive', 'endocrine', 'genitourinary', 'infectious', 'injury', 'mental', 'misc', 'muscular', 'neoplasms', 'nervous', 'pregnancy', 'prenatal', 'respiratory', 'skin', 'ICU', 'NICU', 'ELECTIVE', 'EMERGENCY', 'NEWBORN', 'URGENT', '** INFO NOT AVAILABLE **', 'CLINIC REFERRAL/PREMATURE', 'EMERGENCY ROOM ADMIT', 'HMO REFERRAL/SICK', 'PHYS REFERRAL/NORMAL DELI', 'TRANSFER FROM HOSP/EXTRAM', 'TRANSFER FROM OTHER HEALT', 'TRANSFER FROM SKILLED NUR', 'TRSF WITHIN THIS FACILITY', 'DEAD/EXPIRED', 'DISC-TRAN CANCER/CHLDRN H', 'DISC-TRAN TO FEDERAL HC', 'DISCH-TRAN TO PSYCH HOSP', 'HOME', 'HOME HEALTH CARE', 'HOME WITH HOME IV PROVIDR', 'HOSPICE-HOME', 'HOSPICE-MEDICAL FACILITY', 'ICF', 'LEFT AGAINST MEDICAL ADVI']\n",
      "0.6809430270706777\n",
      "['LOS', 'blood', 'circulatory', 'congenital', 'digestive', 'endocrine', 'genitourinary', 'infectious', 'injury', 'mental', 'misc', 'muscular', 'neoplasms', 'nervous', 'pregnancy', 'prenatal', 'respiratory', 'skin', 'ICU', 'NICU', 'ELECTIVE', 'EMERGENCY', 'NEWBORN', 'URGENT', '** INFO NOT AVAILABLE **', 'CLINIC REFERRAL/PREMATURE', 'EMERGENCY ROOM ADMIT', 'HMO REFERRAL/SICK', 'PHYS REFERRAL/NORMAL DELI', 'TRANSFER FROM HOSP/EXTRAM', 'TRANSFER FROM OTHER HEALT', 'TRANSFER FROM SKILLED NUR', 'TRSF WITHIN THIS FACILITY', 'DEAD/EXPIRED', 'DISC-TRAN CANCER/CHLDRN H', 'DISC-TRAN TO FEDERAL HC', 'DISCH-TRAN TO PSYCH HOSP', 'HOME', 'HOME HEALTH CARE', 'HOME WITH HOME IV PROVIDR', 'HOSPICE-HOME', 'HOSPICE-MEDICAL FACILITY', 'ICF', 'LEFT AGAINST MEDICAL ADVI', 'LONG TERM CARE HOSPITAL']\n",
      "0.6949034265809622\n",
      "['LOS', 'blood', 'circulatory', 'congenital', 'digestive', 'endocrine', 'genitourinary', 'infectious', 'injury', 'mental', 'misc', 'muscular', 'neoplasms', 'nervous', 'pregnancy', 'prenatal', 'respiratory', 'skin', 'ICU', 'NICU', 'ELECTIVE', 'EMERGENCY', 'NEWBORN', 'URGENT', '** INFO NOT AVAILABLE **', 'CLINIC REFERRAL/PREMATURE', 'EMERGENCY ROOM ADMIT', 'HMO REFERRAL/SICK', 'PHYS REFERRAL/NORMAL DELI', 'TRANSFER FROM HOSP/EXTRAM', 'TRANSFER FROM OTHER HEALT', 'TRANSFER FROM SKILLED NUR', 'TRSF WITHIN THIS FACILITY', 'DEAD/EXPIRED', 'DISC-TRAN CANCER/CHLDRN H', 'DISC-TRAN TO FEDERAL HC', 'DISCH-TRAN TO PSYCH HOSP', 'HOME', 'HOME HEALTH CARE', 'HOME WITH HOME IV PROVIDR', 'HOSPICE-HOME', 'HOSPICE-MEDICAL FACILITY', 'ICF', 'LEFT AGAINST MEDICAL ADVI', 'LONG TERM CARE HOSPITAL', 'OTHER FACILITY']\n",
      "0.7005480088751213\n",
      "['LOS', 'blood', 'circulatory', 'congenital', 'digestive', 'endocrine', 'genitourinary', 'infectious', 'injury', 'mental', 'misc', 'muscular', 'neoplasms', 'nervous', 'pregnancy', 'prenatal', 'respiratory', 'skin', 'ICU', 'NICU', 'ELECTIVE', 'EMERGENCY', 'NEWBORN', 'URGENT', '** INFO NOT AVAILABLE **', 'CLINIC REFERRAL/PREMATURE', 'EMERGENCY ROOM ADMIT', 'HMO REFERRAL/SICK', 'PHYS REFERRAL/NORMAL DELI', 'TRANSFER FROM HOSP/EXTRAM', 'TRANSFER FROM OTHER HEALT', 'TRANSFER FROM SKILLED NUR', 'TRSF WITHIN THIS FACILITY', 'DEAD/EXPIRED', 'DISC-TRAN CANCER/CHLDRN H', 'DISC-TRAN TO FEDERAL HC', 'DISCH-TRAN TO PSYCH HOSP', 'HOME', 'HOME HEALTH CARE', 'HOME WITH HOME IV PROVIDR', 'HOSPICE-HOME', 'HOSPICE-MEDICAL FACILITY', 'ICF', 'LEFT AGAINST MEDICAL ADVI', 'LONG TERM CARE HOSPITAL', 'OTHER FACILITY', 'REHAB/DISTINCT PART HOSP']\n",
      "0.6986311462746173\n",
      "['LOS', 'blood', 'circulatory', 'congenital', 'digestive', 'endocrine', 'genitourinary', 'infectious', 'injury', 'mental', 'misc', 'muscular', 'neoplasms', 'nervous', 'pregnancy', 'prenatal', 'respiratory', 'skin', 'ICU', 'NICU', 'ELECTIVE', 'EMERGENCY', 'NEWBORN', 'URGENT', '** INFO NOT AVAILABLE **', 'CLINIC REFERRAL/PREMATURE', 'EMERGENCY ROOM ADMIT', 'HMO REFERRAL/SICK', 'PHYS REFERRAL/NORMAL DELI', 'TRANSFER FROM HOSP/EXTRAM', 'TRANSFER FROM OTHER HEALT', 'TRANSFER FROM SKILLED NUR', 'TRSF WITHIN THIS FACILITY', 'DEAD/EXPIRED', 'DISC-TRAN CANCER/CHLDRN H', 'DISC-TRAN TO FEDERAL HC', 'DISCH-TRAN TO PSYCH HOSP', 'HOME', 'HOME HEALTH CARE', 'HOME WITH HOME IV PROVIDR', 'HOSPICE-HOME', 'HOSPICE-MEDICAL FACILITY', 'ICF', 'LEFT AGAINST MEDICAL ADVI', 'LONG TERM CARE HOSPITAL', 'OTHER FACILITY', 'REHAB/DISTINCT PART HOSP', 'SHORT TERM HOSPITAL']\n",
      "0.6907312367655403\n",
      "['LOS', 'blood', 'circulatory', 'congenital', 'digestive', 'endocrine', 'genitourinary', 'infectious', 'injury', 'mental', 'misc', 'muscular', 'neoplasms', 'nervous', 'pregnancy', 'prenatal', 'respiratory', 'skin', 'ICU', 'NICU', 'ELECTIVE', 'EMERGENCY', 'NEWBORN', 'URGENT', '** INFO NOT AVAILABLE **', 'CLINIC REFERRAL/PREMATURE', 'EMERGENCY ROOM ADMIT', 'HMO REFERRAL/SICK', 'PHYS REFERRAL/NORMAL DELI', 'TRANSFER FROM HOSP/EXTRAM', 'TRANSFER FROM OTHER HEALT', 'TRANSFER FROM SKILLED NUR', 'TRSF WITHIN THIS FACILITY', 'DEAD/EXPIRED', 'DISC-TRAN CANCER/CHLDRN H', 'DISC-TRAN TO FEDERAL HC', 'DISCH-TRAN TO PSYCH HOSP', 'HOME', 'HOME HEALTH CARE', 'HOME WITH HOME IV PROVIDR', 'HOSPICE-HOME', 'HOSPICE-MEDICAL FACILITY', 'ICF', 'LEFT AGAINST MEDICAL ADVI', 'LONG TERM CARE HOSPITAL', 'OTHER FACILITY', 'REHAB/DISTINCT PART HOSP', 'SHORT TERM HOSPITAL', 'SNF']\n",
      "0.6985801883301763\n",
      "['LOS', 'blood', 'circulatory', 'congenital', 'digestive', 'endocrine', 'genitourinary', 'infectious', 'injury', 'mental', 'misc', 'muscular', 'neoplasms', 'nervous', 'pregnancy', 'prenatal', 'respiratory', 'skin', 'ICU', 'NICU', 'ELECTIVE', 'EMERGENCY', 'NEWBORN', 'URGENT', '** INFO NOT AVAILABLE **', 'CLINIC REFERRAL/PREMATURE', 'EMERGENCY ROOM ADMIT', 'HMO REFERRAL/SICK', 'PHYS REFERRAL/NORMAL DELI', 'TRANSFER FROM HOSP/EXTRAM', 'TRANSFER FROM OTHER HEALT', 'TRANSFER FROM SKILLED NUR', 'TRSF WITHIN THIS FACILITY', 'DEAD/EXPIRED', 'DISC-TRAN CANCER/CHLDRN H', 'DISC-TRAN TO FEDERAL HC', 'DISCH-TRAN TO PSYCH HOSP', 'HOME', 'HOME HEALTH CARE', 'HOME WITH HOME IV PROVIDR', 'HOSPICE-HOME', 'HOSPICE-MEDICAL FACILITY', 'ICF', 'LEFT AGAINST MEDICAL ADVI', 'LONG TERM CARE HOSPITAL', 'OTHER FACILITY', 'REHAB/DISTINCT PART HOSP', 'SHORT TERM HOSPITAL', 'SNF', 'SNF-MEDICAID ONLY CERTIF']\n",
      "0.7005603426451134\n",
      "['LOS', 'blood', 'circulatory', 'congenital', 'digestive', 'endocrine', 'genitourinary', 'infectious', 'injury', 'mental', 'misc', 'muscular', 'neoplasms', 'nervous', 'pregnancy', 'prenatal', 'respiratory', 'skin', 'ICU', 'NICU', 'ELECTIVE', 'EMERGENCY', 'NEWBORN', 'URGENT', '** INFO NOT AVAILABLE **', 'CLINIC REFERRAL/PREMATURE', 'EMERGENCY ROOM ADMIT', 'HMO REFERRAL/SICK', 'PHYS REFERRAL/NORMAL DELI', 'TRANSFER FROM HOSP/EXTRAM', 'TRANSFER FROM OTHER HEALT', 'TRANSFER FROM SKILLED NUR', 'TRSF WITHIN THIS FACILITY', 'DEAD/EXPIRED', 'DISC-TRAN CANCER/CHLDRN H', 'DISC-TRAN TO FEDERAL HC', 'DISCH-TRAN TO PSYCH HOSP', 'HOME', 'HOME HEALTH CARE', 'HOME WITH HOME IV PROVIDR', 'HOSPICE-HOME', 'HOSPICE-MEDICAL FACILITY', 'ICF', 'LEFT AGAINST MEDICAL ADVI', 'LONG TERM CARE HOSPITAL', 'OTHER FACILITY', 'REHAB/DISTINCT PART HOSP', 'SHORT TERM HOSPITAL', 'SNF', 'SNF-MEDICAID ONLY CERTIF', 'ASIAN']\n",
      "0.6884491647441132\n",
      "['LOS', 'blood', 'circulatory', 'congenital', 'digestive', 'endocrine', 'genitourinary', 'infectious', 'injury', 'mental', 'misc', 'muscular', 'neoplasms', 'nervous', 'pregnancy', 'prenatal', 'respiratory', 'skin', 'ICU', 'NICU', 'ELECTIVE', 'EMERGENCY', 'NEWBORN', 'URGENT', '** INFO NOT AVAILABLE **', 'CLINIC REFERRAL/PREMATURE', 'EMERGENCY ROOM ADMIT', 'HMO REFERRAL/SICK', 'PHYS REFERRAL/NORMAL DELI', 'TRANSFER FROM HOSP/EXTRAM', 'TRANSFER FROM OTHER HEALT', 'TRANSFER FROM SKILLED NUR', 'TRSF WITHIN THIS FACILITY', 'DEAD/EXPIRED', 'DISC-TRAN CANCER/CHLDRN H', 'DISC-TRAN TO FEDERAL HC', 'DISCH-TRAN TO PSYCH HOSP', 'HOME', 'HOME HEALTH CARE', 'HOME WITH HOME IV PROVIDR', 'HOSPICE-HOME', 'HOSPICE-MEDICAL FACILITY', 'ICF', 'LEFT AGAINST MEDICAL ADVI', 'LONG TERM CARE HOSPITAL', 'OTHER FACILITY', 'REHAB/DISTINCT PART HOSP', 'SHORT TERM HOSPITAL', 'SNF', 'SNF-MEDICAID ONLY CERTIF', 'ASIAN', 'BLACK']\n",
      "0.7013248416408847\n",
      "['LOS', 'blood', 'circulatory', 'congenital', 'digestive', 'endocrine', 'genitourinary', 'infectious', 'injury', 'mental', 'misc', 'muscular', 'neoplasms', 'nervous', 'pregnancy', 'prenatal', 'respiratory', 'skin', 'ICU', 'NICU', 'ELECTIVE', 'EMERGENCY', 'NEWBORN', 'URGENT', '** INFO NOT AVAILABLE **', 'CLINIC REFERRAL/PREMATURE', 'EMERGENCY ROOM ADMIT', 'HMO REFERRAL/SICK', 'PHYS REFERRAL/NORMAL DELI', 'TRANSFER FROM HOSP/EXTRAM', 'TRANSFER FROM OTHER HEALT', 'TRANSFER FROM SKILLED NUR', 'TRSF WITHIN THIS FACILITY', 'DEAD/EXPIRED', 'DISC-TRAN CANCER/CHLDRN H', 'DISC-TRAN TO FEDERAL HC', 'DISCH-TRAN TO PSYCH HOSP', 'HOME', 'HOME HEALTH CARE', 'HOME WITH HOME IV PROVIDR', 'HOSPICE-HOME', 'HOSPICE-MEDICAL FACILITY', 'ICF', 'LEFT AGAINST MEDICAL ADVI', 'LONG TERM CARE HOSPITAL', 'OTHER FACILITY', 'REHAB/DISTINCT PART HOSP', 'SHORT TERM HOSPITAL', 'SNF', 'SNF-MEDICAID ONLY CERTIF', 'ASIAN', 'BLACK', 'HISPANIC']\n",
      "0.6933411274104406\n",
      "['LOS', 'blood', 'circulatory', 'congenital', 'digestive', 'endocrine', 'genitourinary', 'infectious', 'injury', 'mental', 'misc', 'muscular', 'neoplasms', 'nervous', 'pregnancy', 'prenatal', 'respiratory', 'skin', 'ICU', 'NICU', 'ELECTIVE', 'EMERGENCY', 'NEWBORN', 'URGENT', '** INFO NOT AVAILABLE **', 'CLINIC REFERRAL/PREMATURE', 'EMERGENCY ROOM ADMIT', 'HMO REFERRAL/SICK', 'PHYS REFERRAL/NORMAL DELI', 'TRANSFER FROM HOSP/EXTRAM', 'TRANSFER FROM OTHER HEALT', 'TRANSFER FROM SKILLED NUR', 'TRSF WITHIN THIS FACILITY', 'DEAD/EXPIRED', 'DISC-TRAN CANCER/CHLDRN H', 'DISC-TRAN TO FEDERAL HC', 'DISCH-TRAN TO PSYCH HOSP', 'HOME', 'HOME HEALTH CARE', 'HOME WITH HOME IV PROVIDR', 'HOSPICE-HOME', 'HOSPICE-MEDICAL FACILITY', 'ICF', 'LEFT AGAINST MEDICAL ADVI', 'LONG TERM CARE HOSPITAL', 'OTHER FACILITY', 'REHAB/DISTINCT PART HOSP', 'SHORT TERM HOSPITAL', 'SNF', 'SNF-MEDICAID ONLY CERTIF', 'ASIAN', 'BLACK', 'HISPANIC', 'OTHERS']\n",
      "0.6987078103923048\n",
      "['LOS', 'blood', 'circulatory', 'congenital', 'digestive', 'endocrine', 'genitourinary', 'infectious', 'injury', 'mental', 'misc', 'muscular', 'neoplasms', 'nervous', 'pregnancy', 'prenatal', 'respiratory', 'skin', 'ICU', 'NICU', 'ELECTIVE', 'EMERGENCY', 'NEWBORN', 'URGENT', '** INFO NOT AVAILABLE **', 'CLINIC REFERRAL/PREMATURE', 'EMERGENCY ROOM ADMIT', 'HMO REFERRAL/SICK', 'PHYS REFERRAL/NORMAL DELI', 'TRANSFER FROM HOSP/EXTRAM', 'TRANSFER FROM OTHER HEALT', 'TRANSFER FROM SKILLED NUR', 'TRSF WITHIN THIS FACILITY', 'DEAD/EXPIRED', 'DISC-TRAN CANCER/CHLDRN H', 'DISC-TRAN TO FEDERAL HC', 'DISCH-TRAN TO PSYCH HOSP', 'HOME', 'HOME HEALTH CARE', 'HOME WITH HOME IV PROVIDR', 'HOSPICE-HOME', 'HOSPICE-MEDICAL FACILITY', 'ICF', 'LEFT AGAINST MEDICAL ADVI', 'LONG TERM CARE HOSPITAL', 'OTHER FACILITY', 'REHAB/DISTINCT PART HOSP', 'SHORT TERM HOSPITAL', 'SNF', 'SNF-MEDICAID ONLY CERTIF', 'ASIAN', 'BLACK', 'HISPANIC', 'OTHERS', 'WHITE']\n",
      "0.7005533318705914\n",
      "['LOS', 'blood', 'circulatory', 'congenital', 'digestive', 'endocrine', 'genitourinary', 'infectious', 'injury', 'mental', 'misc', 'muscular', 'neoplasms', 'nervous', 'pregnancy', 'prenatal', 'respiratory', 'skin', 'ICU', 'NICU', 'ELECTIVE', 'EMERGENCY', 'NEWBORN', 'URGENT', '** INFO NOT AVAILABLE **', 'CLINIC REFERRAL/PREMATURE', 'EMERGENCY ROOM ADMIT', 'HMO REFERRAL/SICK', 'PHYS REFERRAL/NORMAL DELI', 'TRANSFER FROM HOSP/EXTRAM', 'TRANSFER FROM OTHER HEALT', 'TRANSFER FROM SKILLED NUR', 'TRSF WITHIN THIS FACILITY', 'DEAD/EXPIRED', 'DISC-TRAN CANCER/CHLDRN H', 'DISC-TRAN TO FEDERAL HC', 'DISCH-TRAN TO PSYCH HOSP', 'HOME', 'HOME HEALTH CARE', 'HOME WITH HOME IV PROVIDR', 'HOSPICE-HOME', 'HOSPICE-MEDICAL FACILITY', 'ICF', 'LEFT AGAINST MEDICAL ADVI', 'LONG TERM CARE HOSPITAL', 'OTHER FACILITY', 'REHAB/DISTINCT PART HOSP', 'SHORT TERM HOSPITAL', 'SNF', 'SNF-MEDICAID ONLY CERTIF', 'ASIAN', 'BLACK', 'HISPANIC', 'OTHERS', 'WHITE', 'DIVORCED']\n",
      "0.7014659659354257\n",
      "['LOS', 'blood', 'circulatory', 'congenital', 'digestive', 'endocrine', 'genitourinary', 'infectious', 'injury', 'mental', 'misc', 'muscular', 'neoplasms', 'nervous', 'pregnancy', 'prenatal', 'respiratory', 'skin', 'ICU', 'NICU', 'ELECTIVE', 'EMERGENCY', 'NEWBORN', 'URGENT', '** INFO NOT AVAILABLE **', 'CLINIC REFERRAL/PREMATURE', 'EMERGENCY ROOM ADMIT', 'HMO REFERRAL/SICK', 'PHYS REFERRAL/NORMAL DELI', 'TRANSFER FROM HOSP/EXTRAM', 'TRANSFER FROM OTHER HEALT', 'TRANSFER FROM SKILLED NUR', 'TRSF WITHIN THIS FACILITY', 'DEAD/EXPIRED', 'DISC-TRAN CANCER/CHLDRN H', 'DISC-TRAN TO FEDERAL HC', 'DISCH-TRAN TO PSYCH HOSP', 'HOME', 'HOME HEALTH CARE', 'HOME WITH HOME IV PROVIDR', 'HOSPICE-HOME', 'HOSPICE-MEDICAL FACILITY', 'ICF', 'LEFT AGAINST MEDICAL ADVI', 'LONG TERM CARE HOSPITAL', 'OTHER FACILITY', 'REHAB/DISTINCT PART HOSP', 'SHORT TERM HOSPITAL', 'SNF', 'SNF-MEDICAID ONLY CERTIF', 'ASIAN', 'BLACK', 'HISPANIC', 'OTHERS', 'WHITE', 'DIVORCED', 'LIFE PARTNER']\n",
      "0.6957528987605209\n",
      "['LOS', 'blood', 'circulatory', 'congenital', 'digestive', 'endocrine', 'genitourinary', 'infectious', 'injury', 'mental', 'misc', 'muscular', 'neoplasms', 'nervous', 'pregnancy', 'prenatal', 'respiratory', 'skin', 'ICU', 'NICU', 'ELECTIVE', 'EMERGENCY', 'NEWBORN', 'URGENT', '** INFO NOT AVAILABLE **', 'CLINIC REFERRAL/PREMATURE', 'EMERGENCY ROOM ADMIT', 'HMO REFERRAL/SICK', 'PHYS REFERRAL/NORMAL DELI', 'TRANSFER FROM HOSP/EXTRAM', 'TRANSFER FROM OTHER HEALT', 'TRANSFER FROM SKILLED NUR', 'TRSF WITHIN THIS FACILITY', 'DEAD/EXPIRED', 'DISC-TRAN CANCER/CHLDRN H', 'DISC-TRAN TO FEDERAL HC', 'DISCH-TRAN TO PSYCH HOSP', 'HOME', 'HOME HEALTH CARE', 'HOME WITH HOME IV PROVIDR', 'HOSPICE-HOME', 'HOSPICE-MEDICAL FACILITY', 'ICF', 'LEFT AGAINST MEDICAL ADVI', 'LONG TERM CARE HOSPITAL', 'OTHER FACILITY', 'REHAB/DISTINCT PART HOSP', 'SHORT TERM HOSPITAL', 'SNF', 'SNF-MEDICAID ONLY CERTIF', 'ASIAN', 'BLACK', 'HISPANIC', 'OTHERS', 'WHITE', 'DIVORCED', 'LIFE PARTNER', 'MARRIED']\n",
      "0.6989026190436005\n",
      "['LOS', 'blood', 'circulatory', 'congenital', 'digestive', 'endocrine', 'genitourinary', 'infectious', 'injury', 'mental', 'misc', 'muscular', 'neoplasms', 'nervous', 'pregnancy', 'prenatal', 'respiratory', 'skin', 'ICU', 'NICU', 'ELECTIVE', 'EMERGENCY', 'NEWBORN', 'URGENT', '** INFO NOT AVAILABLE **', 'CLINIC REFERRAL/PREMATURE', 'EMERGENCY ROOM ADMIT', 'HMO REFERRAL/SICK', 'PHYS REFERRAL/NORMAL DELI', 'TRANSFER FROM HOSP/EXTRAM', 'TRANSFER FROM OTHER HEALT', 'TRANSFER FROM SKILLED NUR', 'TRSF WITHIN THIS FACILITY', 'DEAD/EXPIRED', 'DISC-TRAN CANCER/CHLDRN H', 'DISC-TRAN TO FEDERAL HC', 'DISCH-TRAN TO PSYCH HOSP', 'HOME', 'HOME HEALTH CARE', 'HOME WITH HOME IV PROVIDR', 'HOSPICE-HOME', 'HOSPICE-MEDICAL FACILITY', 'ICF', 'LEFT AGAINST MEDICAL ADVI', 'LONG TERM CARE HOSPITAL', 'OTHER FACILITY', 'REHAB/DISTINCT PART HOSP', 'SHORT TERM HOSPITAL', 'SNF', 'SNF-MEDICAID ONLY CERTIF', 'ASIAN', 'BLACK', 'HISPANIC', 'OTHERS', 'WHITE', 'DIVORCED', 'LIFE PARTNER', 'MARRIED', 'SEPARATED']\n",
      "0.6969172066477722\n",
      "['LOS', 'blood', 'circulatory', 'congenital', 'digestive', 'endocrine', 'genitourinary', 'infectious', 'injury', 'mental', 'misc', 'muscular', 'neoplasms', 'nervous', 'pregnancy', 'prenatal', 'respiratory', 'skin', 'ICU', 'NICU', 'ELECTIVE', 'EMERGENCY', 'NEWBORN', 'URGENT', '** INFO NOT AVAILABLE **', 'CLINIC REFERRAL/PREMATURE', 'EMERGENCY ROOM ADMIT', 'HMO REFERRAL/SICK', 'PHYS REFERRAL/NORMAL DELI', 'TRANSFER FROM HOSP/EXTRAM', 'TRANSFER FROM OTHER HEALT', 'TRANSFER FROM SKILLED NUR', 'TRSF WITHIN THIS FACILITY', 'DEAD/EXPIRED', 'DISC-TRAN CANCER/CHLDRN H', 'DISC-TRAN TO FEDERAL HC', 'DISCH-TRAN TO PSYCH HOSP', 'HOME', 'HOME HEALTH CARE', 'HOME WITH HOME IV PROVIDR', 'HOSPICE-HOME', 'HOSPICE-MEDICAL FACILITY', 'ICF', 'LEFT AGAINST MEDICAL ADVI', 'LONG TERM CARE HOSPITAL', 'OTHER FACILITY', 'REHAB/DISTINCT PART HOSP', 'SHORT TERM HOSPITAL', 'SNF', 'SNF-MEDICAID ONLY CERTIF', 'ASIAN', 'BLACK', 'HISPANIC', 'OTHERS', 'WHITE', 'DIVORCED', 'LIFE PARTNER', 'MARRIED', 'SEPARATED', 'SINGLE']\n",
      "0.7034380708425783\n",
      "['LOS', 'blood', 'circulatory', 'congenital', 'digestive', 'endocrine', 'genitourinary', 'infectious', 'injury', 'mental', 'misc', 'muscular', 'neoplasms', 'nervous', 'pregnancy', 'prenatal', 'respiratory', 'skin', 'ICU', 'NICU', 'ELECTIVE', 'EMERGENCY', 'NEWBORN', 'URGENT', '** INFO NOT AVAILABLE **', 'CLINIC REFERRAL/PREMATURE', 'EMERGENCY ROOM ADMIT', 'HMO REFERRAL/SICK', 'PHYS REFERRAL/NORMAL DELI', 'TRANSFER FROM HOSP/EXTRAM', 'TRANSFER FROM OTHER HEALT', 'TRANSFER FROM SKILLED NUR', 'TRSF WITHIN THIS FACILITY', 'DEAD/EXPIRED', 'DISC-TRAN CANCER/CHLDRN H', 'DISC-TRAN TO FEDERAL HC', 'DISCH-TRAN TO PSYCH HOSP', 'HOME', 'HOME HEALTH CARE', 'HOME WITH HOME IV PROVIDR', 'HOSPICE-HOME', 'HOSPICE-MEDICAL FACILITY', 'ICF', 'LEFT AGAINST MEDICAL ADVI', 'LONG TERM CARE HOSPITAL', 'OTHER FACILITY', 'REHAB/DISTINCT PART HOSP', 'SHORT TERM HOSPITAL', 'SNF', 'SNF-MEDICAID ONLY CERTIF', 'ASIAN', 'BLACK', 'HISPANIC', 'OTHERS', 'WHITE', 'DIVORCED', 'LIFE PARTNER', 'MARRIED', 'SEPARATED', 'SINGLE', 'UNKNOWN (DEFAULT)']\n",
      "0.7023737963214205\n",
      "['LOS', 'blood', 'circulatory', 'congenital', 'digestive', 'endocrine', 'genitourinary', 'infectious', 'injury', 'mental', 'misc', 'muscular', 'neoplasms', 'nervous', 'pregnancy', 'prenatal', 'respiratory', 'skin', 'ICU', 'NICU', 'ELECTIVE', 'EMERGENCY', 'NEWBORN', 'URGENT', '** INFO NOT AVAILABLE **', 'CLINIC REFERRAL/PREMATURE', 'EMERGENCY ROOM ADMIT', 'HMO REFERRAL/SICK', 'PHYS REFERRAL/NORMAL DELI', 'TRANSFER FROM HOSP/EXTRAM', 'TRANSFER FROM OTHER HEALT', 'TRANSFER FROM SKILLED NUR', 'TRSF WITHIN THIS FACILITY', 'DEAD/EXPIRED', 'DISC-TRAN CANCER/CHLDRN H', 'DISC-TRAN TO FEDERAL HC', 'DISCH-TRAN TO PSYCH HOSP', 'HOME', 'HOME HEALTH CARE', 'HOME WITH HOME IV PROVIDR', 'HOSPICE-HOME', 'HOSPICE-MEDICAL FACILITY', 'ICF', 'LEFT AGAINST MEDICAL ADVI', 'LONG TERM CARE HOSPITAL', 'OTHER FACILITY', 'REHAB/DISTINCT PART HOSP', 'SHORT TERM HOSPITAL', 'SNF', 'SNF-MEDICAID ONLY CERTIF', 'ASIAN', 'BLACK', 'HISPANIC', 'OTHERS', 'WHITE', 'DIVORCED', 'LIFE PARTNER', 'MARRIED', 'SEPARATED', 'SINGLE', 'UNKNOWN (DEFAULT)', 'WIDOWED']\n",
      "0.7005816995415732\n",
      "['LOS', 'blood', 'circulatory', 'congenital', 'digestive', 'endocrine', 'genitourinary', 'infectious', 'injury', 'mental', 'misc', 'muscular', 'neoplasms', 'nervous', 'pregnancy', 'prenatal', 'respiratory', 'skin', 'ICU', 'NICU', 'ELECTIVE', 'EMERGENCY', 'NEWBORN', 'URGENT', '** INFO NOT AVAILABLE **', 'CLINIC REFERRAL/PREMATURE', 'EMERGENCY ROOM ADMIT', 'HMO REFERRAL/SICK', 'PHYS REFERRAL/NORMAL DELI', 'TRANSFER FROM HOSP/EXTRAM', 'TRANSFER FROM OTHER HEALT', 'TRANSFER FROM SKILLED NUR', 'TRSF WITHIN THIS FACILITY', 'DEAD/EXPIRED', 'DISC-TRAN CANCER/CHLDRN H', 'DISC-TRAN TO FEDERAL HC', 'DISCH-TRAN TO PSYCH HOSP', 'HOME', 'HOME HEALTH CARE', 'HOME WITH HOME IV PROVIDR', 'HOSPICE-HOME', 'HOSPICE-MEDICAL FACILITY', 'ICF', 'LEFT AGAINST MEDICAL ADVI', 'LONG TERM CARE HOSPITAL', 'OTHER FACILITY', 'REHAB/DISTINCT PART HOSP', 'SHORT TERM HOSPITAL', 'SNF', 'SNF-MEDICAID ONLY CERTIF', 'ASIAN', 'BLACK', 'HISPANIC', 'OTHERS', 'WHITE', 'DIVORCED', 'LIFE PARTNER', 'MARRIED', 'SEPARATED', 'SINGLE', 'UNKNOWN (DEFAULT)', 'WIDOWED', 'ASIAN']\n",
      "0.7099324498891908\n",
      "['LOS', 'blood', 'circulatory', 'congenital', 'digestive', 'endocrine', 'genitourinary', 'infectious', 'injury', 'mental', 'misc', 'muscular', 'neoplasms', 'nervous', 'pregnancy', 'prenatal', 'respiratory', 'skin', 'ICU', 'NICU', 'ELECTIVE', 'EMERGENCY', 'NEWBORN', 'URGENT', '** INFO NOT AVAILABLE **', 'CLINIC REFERRAL/PREMATURE', 'EMERGENCY ROOM ADMIT', 'HMO REFERRAL/SICK', 'PHYS REFERRAL/NORMAL DELI', 'TRANSFER FROM HOSP/EXTRAM', 'TRANSFER FROM OTHER HEALT', 'TRANSFER FROM SKILLED NUR', 'TRSF WITHIN THIS FACILITY', 'DEAD/EXPIRED', 'DISC-TRAN CANCER/CHLDRN H', 'DISC-TRAN TO FEDERAL HC', 'DISCH-TRAN TO PSYCH HOSP', 'HOME', 'HOME HEALTH CARE', 'HOME WITH HOME IV PROVIDR', 'HOSPICE-HOME', 'HOSPICE-MEDICAL FACILITY', 'ICF', 'LEFT AGAINST MEDICAL ADVI', 'LONG TERM CARE HOSPITAL', 'OTHER FACILITY', 'REHAB/DISTINCT PART HOSP', 'SHORT TERM HOSPITAL', 'SNF', 'SNF-MEDICAID ONLY CERTIF', 'ASIAN', 'BLACK', 'HISPANIC', 'OTHERS', 'WHITE', 'DIVORCED', 'LIFE PARTNER', 'MARRIED', 'SEPARATED', 'SINGLE', 'UNKNOWN (DEFAULT)', 'WIDOWED', 'ASIAN', 'BLACK']\n",
      "0.6976926112927997\n",
      "['LOS', 'blood', 'circulatory', 'congenital', 'digestive', 'endocrine', 'genitourinary', 'infectious', 'injury', 'mental', 'misc', 'muscular', 'neoplasms', 'nervous', 'pregnancy', 'prenatal', 'respiratory', 'skin', 'ICU', 'NICU', 'ELECTIVE', 'EMERGENCY', 'NEWBORN', 'URGENT', '** INFO NOT AVAILABLE **', 'CLINIC REFERRAL/PREMATURE', 'EMERGENCY ROOM ADMIT', 'HMO REFERRAL/SICK', 'PHYS REFERRAL/NORMAL DELI', 'TRANSFER FROM HOSP/EXTRAM', 'TRANSFER FROM OTHER HEALT', 'TRANSFER FROM SKILLED NUR', 'TRSF WITHIN THIS FACILITY', 'DEAD/EXPIRED', 'DISC-TRAN CANCER/CHLDRN H', 'DISC-TRAN TO FEDERAL HC', 'DISCH-TRAN TO PSYCH HOSP', 'HOME', 'HOME HEALTH CARE', 'HOME WITH HOME IV PROVIDR', 'HOSPICE-HOME', 'HOSPICE-MEDICAL FACILITY', 'ICF', 'LEFT AGAINST MEDICAL ADVI', 'LONG TERM CARE HOSPITAL', 'OTHER FACILITY', 'REHAB/DISTINCT PART HOSP', 'SHORT TERM HOSPITAL', 'SNF', 'SNF-MEDICAID ONLY CERTIF', 'ASIAN', 'BLACK', 'HISPANIC', 'OTHERS', 'WHITE', 'DIVORCED', 'LIFE PARTNER', 'MARRIED', 'SEPARATED', 'SINGLE', 'UNKNOWN (DEFAULT)', 'WIDOWED', 'ASIAN', 'BLACK', 'HISPANIC']\n",
      "0.7007499581300966\n",
      "['LOS', 'blood', 'circulatory', 'congenital', 'digestive', 'endocrine', 'genitourinary', 'infectious', 'injury', 'mental', 'misc', 'muscular', 'neoplasms', 'nervous', 'pregnancy', 'prenatal', 'respiratory', 'skin', 'ICU', 'NICU', 'ELECTIVE', 'EMERGENCY', 'NEWBORN', 'URGENT', '** INFO NOT AVAILABLE **', 'CLINIC REFERRAL/PREMATURE', 'EMERGENCY ROOM ADMIT', 'HMO REFERRAL/SICK', 'PHYS REFERRAL/NORMAL DELI', 'TRANSFER FROM HOSP/EXTRAM', 'TRANSFER FROM OTHER HEALT', 'TRANSFER FROM SKILLED NUR', 'TRSF WITHIN THIS FACILITY', 'DEAD/EXPIRED', 'DISC-TRAN CANCER/CHLDRN H', 'DISC-TRAN TO FEDERAL HC', 'DISCH-TRAN TO PSYCH HOSP', 'HOME', 'HOME HEALTH CARE', 'HOME WITH HOME IV PROVIDR', 'HOSPICE-HOME', 'HOSPICE-MEDICAL FACILITY', 'ICF', 'LEFT AGAINST MEDICAL ADVI', 'LONG TERM CARE HOSPITAL', 'OTHER FACILITY', 'REHAB/DISTINCT PART HOSP', 'SHORT TERM HOSPITAL', 'SNF', 'SNF-MEDICAID ONLY CERTIF', 'ASIAN', 'BLACK', 'HISPANIC', 'OTHERS', 'WHITE', 'DIVORCED', 'LIFE PARTNER', 'MARRIED', 'SEPARATED', 'SINGLE', 'UNKNOWN (DEFAULT)', 'WIDOWED', 'ASIAN', 'BLACK', 'HISPANIC', 'OTHERS']\n",
      "0.7053148811478974\n"
     ]
    }
   ],
   "source": [
    "#  Dependency between number of top attributes selected and AUC\n",
    "cls = list(X_train.columns)\n",
    "r=[]\n",
    "num = []\n",
    "for i in range(1,len(cls),1):\n",
    "    c = df_imp[:i]['cls'].tolist()\n",
    "    print(c)\n",
    "    rf = RandomForestClassifier(n_estimators=100)\n",
    "    rf.fit(X_train[c],Y_train)\n",
    "    probs = rf.predict_proba(X_test[c])[:,1]\n",
    "    fpr, tpr, thresholds = roc_curve(Y_test, probs)\n",
    "    a=auc(fpr,tpr)\n",
    "    print(a)\n",
    "    r.append(a)\n",
    "    num.append(i)"
   ]
  },
  {
   "cell_type": "code",
   "execution_count": 93,
   "metadata": {},
   "outputs": [
    {
     "data": {
      "text/plain": [
       "Text(0.5, 1.0, 'Number of Attributes vs AUC')"
      ]
     },
     "execution_count": 93,
     "metadata": {},
     "output_type": "execute_result"
    },
    {
     "data": {
      "image/png": "[encoded data removed]",
      "text/plain": [
       "<Figure size 432x288 with 1 Axes>"
      ]
     },
     "metadata": {
      "needs_background": "light"
     },
     "output_type": "display_data"
    }
   ],
   "source": [
    "plt.plot(num,r)\n",
    "plt.xlabel('Number of Attributes')\n",
    "plt.ylabel('AUC')\n",
    "plt.title('Number of Attributes vs AUC')"
   ]
  },
  {
   "cell_type": "code",
   "execution_count": null,
   "metadata": {},
   "outputs": [],
   "source": [
    "from sklearn.model_selection import RandomizedSearchCV\n",
    "# Number of trees in random forest\n",
    "n_estimators = [int(x) for x in np.linspace(start = 200, stop = 2000, num = 10)]\n",
    "# Number of features to consider at every split\n",
    "max_features = ['auto', 'sqrt']\n",
    "# Maximum number of levels in tree\n",
    "max_depth = [int(x) for x in np.linspace(10, 110, num = 11)]\n",
    "max_depth.append(None)\n",
    "# Minimum number of samples required to split a node\n",
    "min_samples_split = [2, 5, 10]\n",
    "# Minimum number of samples required at each leaf node\n",
    "min_samples_leaf = [1, 2, 4]\n",
    "# Method of selecting samples for training each tree\n",
    "bootstrap = [True, False]\n",
    "# Create the random grid\n",
    "random_grid = {'n_estimators': n_estimators,\n",
    "               'max_features': max_features,\n",
    "               'max_depth': max_depth,\n",
    "               'min_samples_split': min_samples_split,\n",
    "               'min_samples_leaf': min_samples_leaf,\n",
    "               'bootstrap': bootstrap}\n",
    "print(random_grid)"
   ]
  },
  {
   "cell_type": "code",
   "execution_count": null,
   "metadata": {},
   "outputs": [],
   "source": [
    "# Random Search Training\n",
    "# Use the random grid to search for best hyperparameters\n",
    "# First create the base model to tune\n",
    "rf = RandomForestRegressor()\n",
    "# Random search of parameters, using 3 fold cross validation, \n",
    "# search across 100 different combinations, and use all available cores\n",
    "rf_random = RandomizedSearchCV(estimator = rf, param_distributions = random_grid, n_iter = 100, cv = 3, verbose=2, random_state=42, n_jobs = -1)\n",
    "# Fit the random search model\n",
    "rf_random.fit(X_train, Y_train)"
   ]
  },
  {
   "cell_type": "code",
   "execution_count": null,
   "metadata": {},
   "outputs": [],
   "source": [
    "rf_random.best_params_"
   ]
  },
  {
   "cell_type": "code",
   "execution_count": null,
   "metadata": {},
   "outputs": [],
   "source": [
    "# Evaluating Random Search\n",
    "rf = RandomForestClassifier(n_estimators = 1600,max_features = 'sqrt',max_depth = 20,min_samples_split = 10,min_samples_leaf = 1,bootstrap = True)\n",
    "rf.fit(X_train, Y_train)\n",
    "probs = rf.predict_proba(X_test)[:,1]\n",
    "fpr, tpr, thresholds = roc_curve(Y_test, probs)\n",
    "temp = auc(fpr,tpr)\n",
    "print(temp)\n",
    "\n",
    "# 2.5% percent increase in AUC"
   ]
  },
  {
   "cell_type": "code",
   "execution_count": 95,
   "metadata": {},
   "outputs": [
    {
     "name": "stdout",
     "output_type": "stream",
     "text": [
      "0.02\n",
      "0.7055141039905589\n",
      "0.04\n",
      "0.71126177063602\n",
      "0.06\n",
      "0.713259841374735\n",
      "0.08\n",
      "0.7133160574000672\n",
      "0.1\n",
      "0.7130632800298087\n",
      "0.2\n",
      "0.7131768805428936\n",
      "0.3\n",
      "0.7120332154917344\n",
      "0.4\n",
      "0.7129437073754646\n",
      "0.5\n",
      "0.7134739296559657\n",
      "0.6\n",
      "0.7128687959514076\n"
     ]
    }
   ],
   "source": [
    "# Logistic Regression fro different C values\n",
    "# AUC on test data\n",
    "from sklearn.metrics import roc_curve\n",
    "from sklearn.metrics import roc_auc_score\n",
    "num = [0.02,0.04,0.06,0.08,0.1,0.2,0.3,0.4,0.5,0.6]\n",
    "auc = []\n",
    "for i in num:\n",
    "    lr = LogisticRegression(penalty = 'l2', C = i)\n",
    "    print(i)\n",
    "    lr.fit(X_train,Y_train)\n",
    "    probs = lr.predict_proba(X_test)[:,1]\n",
    "    temp = roc_auc_score(Y_test,probs)\n",
    "    print(temp)\n",
    "    auc.append(temp)"
   ]
  },
  {
   "cell_type": "code",
   "execution_count": 96,
   "metadata": {},
   "outputs": [
    {
     "data": {
      "text/plain": [
       "Text(0.5, 1.0, 'Logistic Regression for different C-Values on TestData')"
      ]
     },
     "execution_count": 96,
     "metadata": {},
     "output_type": "execute_result"
    },
    {
     "data": {
      "image/png": "[encoded data removed]",
      "text/plain": [
       "<Figure size 432x288 with 1 Axes>"
      ]
     },
     "metadata": {
      "needs_background": "light"
     },
     "output_type": "display_data"
    }
   ],
   "source": [
    "plt.plot(num,auc)\n",
    "plt.xlabel('C-value')\n",
    "plt.ylabel('AUC')\n",
    "plt.title('Logistic Regression for different C-Values on TestData')"
   ]
  },
  {
   "cell_type": "code",
   "execution_count": 97,
   "metadata": {},
   "outputs": [
    {
     "name": "stdout",
     "output_type": "stream",
     "text": [
      "0.02\n",
      "0.941430476472705\n",
      "0.04\n",
      "0.941430476472705\n",
      "0.06\n",
      "0.9414093093156658\n",
      "0.08\n",
      "0.9413881421586267\n",
      "0.1\n",
      "0.9413881421586267\n",
      "0.2\n",
      "0.9413881421586267\n",
      "0.3\n",
      "0.9414093093156658\n",
      "0.4\n",
      "0.9413669750015875\n",
      "0.5\n",
      "0.9414093093156658\n",
      "0.6\n",
      "0.9413881421586267\n"
     ]
    }
   ],
   "source": [
    "# Accuracy on test data\n",
    "from sklearn.metrics import accuracy_score\n",
    "num = [0.02,0.04,0.06,0.08,0.1,0.2,0.3,0.4,0.5,0.6]\n",
    "auc = []\n",
    "for i in num:\n",
    "    lr = LogisticRegression(penalty = 'l2', C = i)\n",
    "    print(i)\n",
    "    lr.fit(X_train,Y_train)\n",
    "    probs = lr.predict(X_train)\n",
    "    temp = accuracy_score(Y_train,probs)\n",
    "    print(temp)\n",
    "    auc.append(temp)"
   ]
  },
  {
   "cell_type": "code",
   "execution_count": 98,
   "metadata": {},
   "outputs": [
    {
     "data": {
      "text/plain": [
       "Text(0.5, 1.0, 'Logistic Regression Accuracy for different C-values on Train Data')"
      ]
     },
     "execution_count": 98,
     "metadata": {},
     "output_type": "execute_result"
    },
    {
     "data": {
      "image/png": "[encoded data removed]",
      "text/plain": [
       "<Figure size 432x288 with 1 Axes>"
      ]
     },
     "metadata": {
      "needs_background": "light"
     },
     "output_type": "display_data"
    }
   ],
   "source": [
    "plt.plot(num,auc)\n",
    "plt.xlabel('C-value')\n",
    "plt.ylabel('AUC')\n",
    "plt.title('Logistic Regression Accuracy for different C-values on Train Data')"
   ]
  },
  {
   "cell_type": "code",
   "execution_count": 186,
   "metadata": {},
   "outputs": [
    {
     "name": "stdout",
     "output_type": "stream",
     "text": [
      "0.9528761061946903\n",
      "0.9413764738140937\n",
      "0.9385804085908853\n",
      "0.9292849631966351\n",
      "0.9172320217096337\n",
      "0.9159226190476191\n",
      "0.8925831202046036\n",
      "0.888695652173913\n",
      "0.929471032745592\n",
      "0.9166666666666666\n"
     ]
    }
   ],
   "source": [
    "lr = LogisticRegression()\n",
    "cls = df1.columns\n",
    "lr.fit(X_train,Y_train)\n",
    "acc = []\n",
    "for cnt in range(0,50,5):\n",
    "    tt = df1[df1['LOS'] >= cnt] \n",
    "    ttt = tt[tt['LOS'] <= cnt + 5]\n",
    "    y = ttt['Readmission_30']\n",
    "    x = ttt.drop(columns = ['Readmission_30'])\n",
    "    probs = lr.predict(x)\n",
    "    temp = accuracy_score(probs,y)\n",
    "    #probs = lr.predict(tt[cls])\n",
    "    #temp = accuracy_score(probs,tt['Readmission_30'])\n",
    "    print(temp)\n",
    "    acc.append(temp)"
   ]
  },
  {
   "cell_type": "code",
   "execution_count": 188,
   "metadata": {},
   "outputs": [
    {
     "data": {
      "text/plain": [
       "Text(0, 0.5, 'Accuracy')"
      ]
     },
     "execution_count": 188,
     "metadata": {},
     "output_type": "execute_result"
    },
    {
     "data": {
      "image/png": "[encoded data removed]",
      "text/plain": [
       "<Figure size 432x288 with 1 Axes>"
      ]
     },
     "metadata": {
      "needs_background": "light"
     },
     "output_type": "display_data"
    }
   ],
   "source": [
    "plt.bar(range(0,50,5),acc)\n",
    "plt.xlabel('Length of Stay')\n",
    "plt.ylabel('Accuracy')"
   ]
  },
  {
   "cell_type": "code",
   "execution_count": 189,
   "metadata": {},
   "outputs": [
    {
     "name": "stdout",
     "output_type": "stream",
     "text": [
      "0.738119259450988\n",
      "0.6898144180589169\n",
      "0.6798150609150029\n",
      "0.7227365221917836\n",
      "0.681963182209609\n",
      "0.6850175769034457\n",
      "0.6883797909407665\n",
      "0.7409784226190477\n",
      "0.7139139139139139\n",
      "0.7539238679415479\n"
     ]
    }
   ],
   "source": [
    "lr = LogisticRegression()\n",
    "cls = df1.columns\n",
    "lr.fit(X_train,Y_train)\n",
    "acc = []\n",
    "for cnt in range(0,50,5):\n",
    "    tt = df1[df1['LOS'] >= cnt] \n",
    "    ttt = tt[tt['LOS'] <= cnt + 5]\n",
    "    y = ttt['Readmission_30']\n",
    "    x = ttt.drop(columns = ['Readmission_30'])\n",
    "    probs = lr.predict_proba(x)[:,1]\n",
    "    temp = roc_auc_score(y,probs)\n",
    "    #probs = lr.predict(x)\n",
    "    #temp = accuracy_score(probs,y)\n",
    "    #probs = lr.predict(tt[cls])\n",
    "    #temp = accuracy_score(probs,tt['Readmission_30'])\n",
    "    print(temp)\n",
    "    acc.append(temp)"
   ]
  },
  {
   "cell_type": "code",
   "execution_count": 190,
   "metadata": {},
   "outputs": [
    {
     "data": {
      "text/plain": [
       "Text(0, 0.5, 'AUC')"
      ]
     },
     "execution_count": 190,
     "metadata": {},
     "output_type": "execute_result"
    },
    {
     "data": {
      "image/png": "[encoded data removed]",
      "text/plain": [
       "<Figure size 432x288 with 1 Axes>"
      ]
     },
     "metadata": {
      "needs_background": "light"
     },
     "output_type": "display_data"
    }
   ],
   "source": [
    "plt.bar(range(0,50,5),acc)\n",
    "plt.xlabel('Length of Stay')\n",
    "plt.ylabel('AUC')"
   ]
  },
  {
   "cell_type": "code",
   "execution_count": null,
   "metadata": {},
   "outputs": [],
   "source": []
  }
 ],
 "metadata": {
  "kernelspec": {
   "display_name": "Python 3",
   "language": "python",
   "name": "python3"
  },
  "language_info": {
   "codemirror_mode": {
    "name": "ipython",
    "version": 3
   },
   "file_extension": ".py",
   "mimetype": "text/x-python",
   "name": "python",
   "nbconvert_exporter": "python",
   "pygments_lexer": "ipython3",
   "version": "3.7.6"
  }
 },
 "nbformat": 4,
 "nbformat_minor": 4
}
